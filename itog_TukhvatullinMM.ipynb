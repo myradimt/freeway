{
 "cells": [
  {
   "cell_type": "markdown",
   "metadata": {},
   "source": [
    "**ЗАДАЧА 1**"
   ]
  },
  {
   "cell_type": "code",
   "execution_count": 1,
   "metadata": {},
   "outputs": [
    {
     "name": "stdout",
     "output_type": "stream",
     "text": [
      "Requirement already satisfied: scikit-learn in c:\\python\\lib\\site-packages (1.3.0)\n",
      "Requirement already satisfied: numpy>=1.17.3 in c:\\python\\lib\\site-packages (from scikit-learn) (1.23.5)\n",
      "Requirement already satisfied: scipy>=1.5.0 in c:\\python\\lib\\site-packages (from scikit-learn) (1.10.1)\n",
      "Requirement already satisfied: joblib>=1.1.1 in c:\\python\\lib\\site-packages (from scikit-learn) (1.3.2)\n",
      "Requirement already satisfied: threadpoolctl>=2.0.0 in c:\\python\\lib\\site-packages (from scikit-learn) (3.2.0)\n"
     ]
    },
    {
     "name": "stderr",
     "output_type": "stream",
     "text": [
      "\n",
      "[notice] A new release of pip is available: 23.1.2 -> 23.2.1\n",
      "[notice] To update, run: python.exe -m pip install --upgrade pip\n"
     ]
    }
   ],
   "source": [
    "!pip install scikit-learn"
   ]
  },
  {
   "cell_type": "code",
   "execution_count": 2,
   "metadata": {},
   "outputs": [],
   "source": [
    "import pandas as pd\n",
    "import numpy as np \n",
    "import matplotlib.pyplot as plt\n",
    "import plotly.express as px\n",
    "import seaborn as sns\n",
    "from scipy.stats import ttest_ind, chi2_contingency  \n",
    "from statsmodels.stats.proportion import proportion_confint\n",
    "from sklearn.utils import resample\n",
    "from sklearn.preprocessing import LabelEncoder"
   ]
  },
  {
   "cell_type": "code",
   "execution_count": 3,
   "metadata": {},
   "outputs": [],
   "source": [
    "smartph = pd.read_csv('C:/Users/admin/Documents/data/itog2023/smartphones.csv')"
   ]
  },
  {
   "cell_type": "markdown",
   "metadata": {},
   "source": [
    "Описание данных"
   ]
  },
  {
   "cell_type": "code",
   "execution_count": 4,
   "metadata": {},
   "outputs": [
    {
     "data": {
      "text/html": [
       "<div>\n",
       "<style scoped>\n",
       "    .dataframe tbody tr th:only-of-type {\n",
       "        vertical-align: middle;\n",
       "    }\n",
       "\n",
       "    .dataframe tbody tr th {\n",
       "        vertical-align: top;\n",
       "    }\n",
       "\n",
       "    .dataframe thead th {\n",
       "        text-align: right;\n",
       "    }\n",
       "</style>\n",
       "<table border=\"1\" class=\"dataframe\">\n",
       "  <thead>\n",
       "    <tr style=\"text-align: right;\">\n",
       "      <th></th>\n",
       "      <th>brand_name</th>\n",
       "      <th>model</th>\n",
       "      <th>price</th>\n",
       "      <th>avg_rating</th>\n",
       "      <th>5G_or_not</th>\n",
       "      <th>processor_brand</th>\n",
       "      <th>num_cores</th>\n",
       "      <th>processor_speed</th>\n",
       "      <th>battery_capacity</th>\n",
       "      <th>fast_charging_available</th>\n",
       "      <th>...</th>\n",
       "      <th>internal_memory</th>\n",
       "      <th>screen_size</th>\n",
       "      <th>refresh_rate</th>\n",
       "      <th>num_rear_cameras</th>\n",
       "      <th>os</th>\n",
       "      <th>primary_camera_rear</th>\n",
       "      <th>primary_camera_front</th>\n",
       "      <th>extended_memory_available</th>\n",
       "      <th>resolution_height</th>\n",
       "      <th>resolution_width</th>\n",
       "    </tr>\n",
       "  </thead>\n",
       "  <tbody>\n",
       "    <tr>\n",
       "      <th>0</th>\n",
       "      <td>apple</td>\n",
       "      <td>Apple iPhone 11</td>\n",
       "      <td>38999</td>\n",
       "      <td>7.3</td>\n",
       "      <td>0</td>\n",
       "      <td>bionic</td>\n",
       "      <td>6.0</td>\n",
       "      <td>2.65</td>\n",
       "      <td>3110.0</td>\n",
       "      <td>0</td>\n",
       "      <td>...</td>\n",
       "      <td>64</td>\n",
       "      <td>6.1</td>\n",
       "      <td>60</td>\n",
       "      <td>2</td>\n",
       "      <td>ios</td>\n",
       "      <td>12.0</td>\n",
       "      <td>12.0</td>\n",
       "      <td>0</td>\n",
       "      <td>1792</td>\n",
       "      <td>828</td>\n",
       "    </tr>\n",
       "    <tr>\n",
       "      <th>1</th>\n",
       "      <td>apple</td>\n",
       "      <td>Apple iPhone 11 (128GB)</td>\n",
       "      <td>46999</td>\n",
       "      <td>7.5</td>\n",
       "      <td>0</td>\n",
       "      <td>bionic</td>\n",
       "      <td>6.0</td>\n",
       "      <td>2.65</td>\n",
       "      <td>3110.0</td>\n",
       "      <td>0</td>\n",
       "      <td>...</td>\n",
       "      <td>128</td>\n",
       "      <td>6.1</td>\n",
       "      <td>60</td>\n",
       "      <td>2</td>\n",
       "      <td>ios</td>\n",
       "      <td>12.0</td>\n",
       "      <td>12.0</td>\n",
       "      <td>0</td>\n",
       "      <td>1792</td>\n",
       "      <td>828</td>\n",
       "    </tr>\n",
       "    <tr>\n",
       "      <th>2</th>\n",
       "      <td>apple</td>\n",
       "      <td>Apple iPhone 11 Pro Max</td>\n",
       "      <td>109900</td>\n",
       "      <td>7.7</td>\n",
       "      <td>0</td>\n",
       "      <td>bionic</td>\n",
       "      <td>6.0</td>\n",
       "      <td>2.65</td>\n",
       "      <td>3500.0</td>\n",
       "      <td>1</td>\n",
       "      <td>...</td>\n",
       "      <td>64</td>\n",
       "      <td>6.5</td>\n",
       "      <td>60</td>\n",
       "      <td>3</td>\n",
       "      <td>ios</td>\n",
       "      <td>12.0</td>\n",
       "      <td>12.0</td>\n",
       "      <td>0</td>\n",
       "      <td>2688</td>\n",
       "      <td>1242</td>\n",
       "    </tr>\n",
       "    <tr>\n",
       "      <th>3</th>\n",
       "      <td>apple</td>\n",
       "      <td>Apple iPhone 12</td>\n",
       "      <td>51999</td>\n",
       "      <td>7.4</td>\n",
       "      <td>1</td>\n",
       "      <td>bionic</td>\n",
       "      <td>6.0</td>\n",
       "      <td>3.10</td>\n",
       "      <td>NaN</td>\n",
       "      <td>0</td>\n",
       "      <td>...</td>\n",
       "      <td>64</td>\n",
       "      <td>6.1</td>\n",
       "      <td>60</td>\n",
       "      <td>2</td>\n",
       "      <td>ios</td>\n",
       "      <td>12.0</td>\n",
       "      <td>12.0</td>\n",
       "      <td>0</td>\n",
       "      <td>2532</td>\n",
       "      <td>1170</td>\n",
       "    </tr>\n",
       "    <tr>\n",
       "      <th>4</th>\n",
       "      <td>apple</td>\n",
       "      <td>Apple iPhone 12 (128GB)</td>\n",
       "      <td>55999</td>\n",
       "      <td>7.5</td>\n",
       "      <td>1</td>\n",
       "      <td>bionic</td>\n",
       "      <td>6.0</td>\n",
       "      <td>3.10</td>\n",
       "      <td>NaN</td>\n",
       "      <td>0</td>\n",
       "      <td>...</td>\n",
       "      <td>128</td>\n",
       "      <td>6.1</td>\n",
       "      <td>60</td>\n",
       "      <td>2</td>\n",
       "      <td>ios</td>\n",
       "      <td>12.0</td>\n",
       "      <td>12.0</td>\n",
       "      <td>0</td>\n",
       "      <td>2532</td>\n",
       "      <td>1170</td>\n",
       "    </tr>\n",
       "  </tbody>\n",
       "</table>\n",
       "<p>5 rows × 22 columns</p>\n",
       "</div>"
      ],
      "text/plain": [
       "  brand_name                    model   price  avg_rating  5G_or_not  \\\n",
       "0      apple          Apple iPhone 11   38999         7.3          0   \n",
       "1      apple  Apple iPhone 11 (128GB)   46999         7.5          0   \n",
       "2      apple  Apple iPhone 11 Pro Max  109900         7.7          0   \n",
       "3      apple          Apple iPhone 12   51999         7.4          1   \n",
       "4      apple  Apple iPhone 12 (128GB)   55999         7.5          1   \n",
       "\n",
       "  processor_brand  num_cores  processor_speed  battery_capacity  \\\n",
       "0          bionic        6.0             2.65            3110.0   \n",
       "1          bionic        6.0             2.65            3110.0   \n",
       "2          bionic        6.0             2.65            3500.0   \n",
       "3          bionic        6.0             3.10               NaN   \n",
       "4          bionic        6.0             3.10               NaN   \n",
       "\n",
       "   fast_charging_available  ...  internal_memory  screen_size  refresh_rate  \\\n",
       "0                        0  ...               64          6.1            60   \n",
       "1                        0  ...              128          6.1            60   \n",
       "2                        1  ...               64          6.5            60   \n",
       "3                        0  ...               64          6.1            60   \n",
       "4                        0  ...              128          6.1            60   \n",
       "\n",
       "   num_rear_cameras   os  primary_camera_rear primary_camera_front  \\\n",
       "0                 2  ios                 12.0                 12.0   \n",
       "1                 2  ios                 12.0                 12.0   \n",
       "2                 3  ios                 12.0                 12.0   \n",
       "3                 2  ios                 12.0                 12.0   \n",
       "4                 2  ios                 12.0                 12.0   \n",
       "\n",
       "   extended_memory_available  resolution_height  resolution_width  \n",
       "0                          0               1792               828  \n",
       "1                          0               1792               828  \n",
       "2                          0               2688              1242  \n",
       "3                          0               2532              1170  \n",
       "4                          0               2532              1170  \n",
       "\n",
       "[5 rows x 22 columns]"
      ]
     },
     "execution_count": 4,
     "metadata": {},
     "output_type": "execute_result"
    }
   ],
   "source": [
    "smartph.head()"
   ]
  },
  {
   "cell_type": "code",
   "execution_count": 5,
   "metadata": {},
   "outputs": [
    {
     "name": "stdout",
     "output_type": "stream",
     "text": [
      "Размер данных: (980, 22)\n"
     ]
    }
   ],
   "source": [
    "print(f'Размер данных: {smartph.shape}') "
   ]
  },
  {
   "cell_type": "code",
   "execution_count": 6,
   "metadata": {},
   "outputs": [
    {
     "name": "stdout",
     "output_type": "stream",
     "text": [
      "<class 'pandas.core.frame.DataFrame'>\n",
      "RangeIndex: 980 entries, 0 to 979\n",
      "Data columns (total 22 columns):\n",
      " #   Column                     Non-Null Count  Dtype  \n",
      "---  ------                     --------------  -----  \n",
      " 0   brand_name                 980 non-null    object \n",
      " 1   model                      980 non-null    object \n",
      " 2   price                      980 non-null    int64  \n",
      " 3   avg_rating                 879 non-null    float64\n",
      " 4   5G_or_not                  980 non-null    int64  \n",
      " 5   processor_brand            960 non-null    object \n",
      " 6   num_cores                  974 non-null    float64\n",
      " 7   processor_speed            938 non-null    float64\n",
      " 8   battery_capacity           969 non-null    float64\n",
      " 9   fast_charging_available    980 non-null    int64  \n",
      " 10  fast_charging              769 non-null    float64\n",
      " 11  ram_capacity               980 non-null    int64  \n",
      " 12  internal_memory            980 non-null    int64  \n",
      " 13  screen_size                980 non-null    float64\n",
      " 14  refresh_rate               980 non-null    int64  \n",
      " 15  num_rear_cameras           980 non-null    int64  \n",
      " 16  os                         966 non-null    object \n",
      " 17  primary_camera_rear        980 non-null    float64\n",
      " 18  primary_camera_front       975 non-null    float64\n",
      " 19  extended_memory_available  980 non-null    int64  \n",
      " 20  resolution_height          980 non-null    int64  \n",
      " 21  resolution_width           980 non-null    int64  \n",
      "dtypes: float64(8), int64(10), object(4)\n",
      "memory usage: 168.6+ KB\n"
     ]
    }
   ],
   "source": [
    "smartph.info()"
   ]
  },
  {
   "cell_type": "code",
   "execution_count": 7,
   "metadata": {},
   "outputs": [
    {
     "name": "stdout",
     "output_type": "stream",
     "text": [
      "Название колонок: ['brand_name', 'model', 'price', 'avg_rating', '5G_or_not', 'processor_brand', 'num_cores', 'processor_speed', 'battery_capacity', 'fast_charging_available', 'fast_charging', 'ram_capacity', 'internal_memory', 'screen_size', 'refresh_rate', 'num_rear_cameras', 'os', 'primary_camera_rear', 'primary_camera_front', 'extended_memory_available', 'resolution_height', 'resolution_width']\n"
     ]
    }
   ],
   "source": [
    "column_names = list(smartph.columns) \n",
    "print(\"Название колонок:\", column_names)"
   ]
  },
  {
   "cell_type": "code",
   "execution_count": 8,
   "metadata": {},
   "outputs": [
    {
     "name": "stdout",
     "output_type": "stream",
     "text": [
      "Количество уникальных значений в каждом столбце:\n",
      "brand_name                    46\n",
      "model                        980\n",
      "price                        379\n",
      "avg_rating                    30\n",
      "5G_or_not                      2\n",
      "processor_brand               13\n",
      "num_cores                      3\n",
      "processor_speed               35\n",
      "battery_capacity              89\n",
      "fast_charging_available        2\n",
      "fast_charging                 32\n",
      "ram_capacity                   9\n",
      "internal_memory                8\n",
      "screen_size                   79\n",
      "refresh_rate                   6\n",
      "num_rear_cameras               4\n",
      "os                             3\n",
      "primary_camera_rear           18\n",
      "primary_camera_front          19\n",
      "extended_memory_available      2\n",
      "resolution_height             65\n",
      "resolution_width              40\n",
      "dtype: int64\n"
     ]
    }
   ],
   "source": [
    "unique_counts = smartph.nunique()\n",
    "print(\"Количество уникальных значений в каждом столбце:\")\n",
    "print(unique_counts)"
   ]
  },
  {
   "cell_type": "markdown",
   "metadata": {},
   "source": [
    "<b>Выводы</b>\n",
    "\n",
    "* в датафрейме 22 столбцов\n",
    "* десять из них имеют тип `object`\n",
    "* два из них имеют тип `float64`\n",
    "* десять столбца имеют тип `int64`\n",
    "* всего в датафрейме 980 строк\n",
    "* в столбцах avg_rating, processor_brand, num_cores, processor_speed, battery_capacity, fast_charging, os, primary_camera_front есть  пропуски\n",
    "* в столбцах avg_rating, processor_speed, fast_charging пропуски более 5%\n",
    "* объем занимаемый датафреймом 168,6+ KB "
   ]
  },
  {
   "cell_type": "markdown",
   "metadata": {},
   "source": [
    "Предобработка данных"
   ]
  },
  {
   "cell_type": "code",
   "execution_count": 9,
   "metadata": {},
   "outputs": [
    {
     "data": {
      "text/html": [
       "<div>\n",
       "<style scoped>\n",
       "    .dataframe tbody tr th:only-of-type {\n",
       "        vertical-align: middle;\n",
       "    }\n",
       "\n",
       "    .dataframe tbody tr th {\n",
       "        vertical-align: top;\n",
       "    }\n",
       "\n",
       "    .dataframe thead th {\n",
       "        text-align: right;\n",
       "    }\n",
       "</style>\n",
       "<table border=\"1\" class=\"dataframe\">\n",
       "  <thead>\n",
       "    <tr style=\"text-align: right;\">\n",
       "      <th></th>\n",
       "      <th>brand_name</th>\n",
       "      <th>model</th>\n",
       "      <th>price</th>\n",
       "      <th>avg_rating</th>\n",
       "      <th>5g_or_not</th>\n",
       "      <th>processor_brand</th>\n",
       "      <th>num_cores</th>\n",
       "      <th>processor_speed</th>\n",
       "      <th>battery_capacity</th>\n",
       "      <th>fast_charging_available</th>\n",
       "      <th>...</th>\n",
       "      <th>internal_memory</th>\n",
       "      <th>screen_size</th>\n",
       "      <th>refresh_rate</th>\n",
       "      <th>num_rear_cameras</th>\n",
       "      <th>os</th>\n",
       "      <th>primary_camera_rear</th>\n",
       "      <th>primary_camera_front</th>\n",
       "      <th>extended_memory_available</th>\n",
       "      <th>resolution_height</th>\n",
       "      <th>resolution_width</th>\n",
       "    </tr>\n",
       "  </thead>\n",
       "  <tbody>\n",
       "    <tr>\n",
       "      <th>0</th>\n",
       "      <td>apple</td>\n",
       "      <td>Apple iPhone 11</td>\n",
       "      <td>38999</td>\n",
       "      <td>7.3</td>\n",
       "      <td>0</td>\n",
       "      <td>bionic</td>\n",
       "      <td>6.0</td>\n",
       "      <td>2.65</td>\n",
       "      <td>3110.0</td>\n",
       "      <td>0</td>\n",
       "      <td>...</td>\n",
       "      <td>64</td>\n",
       "      <td>6.1</td>\n",
       "      <td>60</td>\n",
       "      <td>2</td>\n",
       "      <td>ios</td>\n",
       "      <td>12.0</td>\n",
       "      <td>12.0</td>\n",
       "      <td>0</td>\n",
       "      <td>1792</td>\n",
       "      <td>828</td>\n",
       "    </tr>\n",
       "    <tr>\n",
       "      <th>1</th>\n",
       "      <td>apple</td>\n",
       "      <td>Apple iPhone 11 (128GB)</td>\n",
       "      <td>46999</td>\n",
       "      <td>7.5</td>\n",
       "      <td>0</td>\n",
       "      <td>bionic</td>\n",
       "      <td>6.0</td>\n",
       "      <td>2.65</td>\n",
       "      <td>3110.0</td>\n",
       "      <td>0</td>\n",
       "      <td>...</td>\n",
       "      <td>128</td>\n",
       "      <td>6.1</td>\n",
       "      <td>60</td>\n",
       "      <td>2</td>\n",
       "      <td>ios</td>\n",
       "      <td>12.0</td>\n",
       "      <td>12.0</td>\n",
       "      <td>0</td>\n",
       "      <td>1792</td>\n",
       "      <td>828</td>\n",
       "    </tr>\n",
       "    <tr>\n",
       "      <th>2</th>\n",
       "      <td>apple</td>\n",
       "      <td>Apple iPhone 11 Pro Max</td>\n",
       "      <td>109900</td>\n",
       "      <td>7.7</td>\n",
       "      <td>0</td>\n",
       "      <td>bionic</td>\n",
       "      <td>6.0</td>\n",
       "      <td>2.65</td>\n",
       "      <td>3500.0</td>\n",
       "      <td>1</td>\n",
       "      <td>...</td>\n",
       "      <td>64</td>\n",
       "      <td>6.5</td>\n",
       "      <td>60</td>\n",
       "      <td>3</td>\n",
       "      <td>ios</td>\n",
       "      <td>12.0</td>\n",
       "      <td>12.0</td>\n",
       "      <td>0</td>\n",
       "      <td>2688</td>\n",
       "      <td>1242</td>\n",
       "    </tr>\n",
       "  </tbody>\n",
       "</table>\n",
       "<p>3 rows × 22 columns</p>\n",
       "</div>"
      ],
      "text/plain": [
       "  brand_name                    model   price  avg_rating  5g_or_not  \\\n",
       "0      apple          Apple iPhone 11   38999         7.3          0   \n",
       "1      apple  Apple iPhone 11 (128GB)   46999         7.5          0   \n",
       "2      apple  Apple iPhone 11 Pro Max  109900         7.7          0   \n",
       "\n",
       "  processor_brand  num_cores  processor_speed  battery_capacity  \\\n",
       "0          bionic        6.0             2.65            3110.0   \n",
       "1          bionic        6.0             2.65            3110.0   \n",
       "2          bionic        6.0             2.65            3500.0   \n",
       "\n",
       "   fast_charging_available  ...  internal_memory  screen_size  refresh_rate  \\\n",
       "0                        0  ...               64          6.1            60   \n",
       "1                        0  ...              128          6.1            60   \n",
       "2                        1  ...               64          6.5            60   \n",
       "\n",
       "   num_rear_cameras   os  primary_camera_rear primary_camera_front  \\\n",
       "0                 2  ios                 12.0                 12.0   \n",
       "1                 2  ios                 12.0                 12.0   \n",
       "2                 3  ios                 12.0                 12.0   \n",
       "\n",
       "   extended_memory_available  resolution_height  resolution_width  \n",
       "0                          0               1792               828  \n",
       "1                          0               1792               828  \n",
       "2                          0               2688              1242  \n",
       "\n",
       "[3 rows x 22 columns]"
      ]
     },
     "execution_count": 9,
     "metadata": {},
     "output_type": "execute_result"
    }
   ],
   "source": [
    "# приводим все названия столбцов к нижнему регистру\n",
    "lower_column_names = []\n",
    "\n",
    "for word in column_names: \n",
    "    lower_column_names.append(word.lower()) \n",
    "\n",
    "smartph.columns = lower_column_names \n",
    "smartph.head(3)"
   ]
  },
  {
   "cell_type": "code",
   "execution_count": 10,
   "metadata": {},
   "outputs": [
    {
     "name": "stdout",
     "output_type": "stream",
     "text": [
      "Всего найдено дубликатов: 0\n"
     ]
    }
   ],
   "source": [
    "# ищем дубликаты\n",
    "duplicate_rows = smartph[smartph.duplicated()]\n",
    "num_duplicate_rows = duplicate_rows.shape[0]\n",
    "print(f\"Всего найдено дубликатов: {num_duplicate_rows}\")"
   ]
  },
  {
   "cell_type": "code",
   "execution_count": 11,
   "metadata": {},
   "outputs": [
    {
     "data": {
      "text/plain": [
       "brand_name                     0\n",
       "model                          0\n",
       "price                          0\n",
       "avg_rating                   101\n",
       "5g_or_not                      0\n",
       "processor_brand               20\n",
       "num_cores                      6\n",
       "processor_speed               42\n",
       "battery_capacity              11\n",
       "fast_charging_available        0\n",
       "fast_charging                211\n",
       "ram_capacity                   0\n",
       "internal_memory                0\n",
       "screen_size                    0\n",
       "refresh_rate                   0\n",
       "num_rear_cameras               0\n",
       "os                            14\n",
       "primary_camera_rear            0\n",
       "primary_camera_front           5\n",
       "extended_memory_available      0\n",
       "resolution_height              0\n",
       "resolution_width               0\n",
       "dtype: int64"
      ]
     },
     "execution_count": 11,
     "metadata": {},
     "output_type": "execute_result"
    }
   ],
   "source": [
    "smartph.isna().sum()"
   ]
  },
  {
   "cell_type": "code",
   "execution_count": 12,
   "metadata": {},
   "outputs": [
    {
     "name": "stdout",
     "output_type": "stream",
     "text": [
      "     avg_rating  processor_speed  fast_charging  battery_capacity\n",
      "0           7.3             2.65            NaN            3110.0\n",
      "1           7.5             2.65            NaN            3110.0\n",
      "2           7.7             2.65           18.0            3500.0\n",
      "3           7.4             3.10            NaN               NaN\n",
      "4           7.5             3.10            NaN               NaN\n",
      "..          ...              ...            ...               ...\n",
      "975         7.5             2.30           18.0            5020.0\n",
      "976         7.7             2.30           18.0            5020.0\n",
      "977         8.0             2.30           33.0            5020.0\n",
      "978         8.2             3.20           55.0            4200.0\n",
      "979         8.9             3.00           65.0            5000.0\n",
      "\n",
      "[980 rows x 4 columns]\n"
     ]
    }
   ],
   "source": [
    "# выведем пример данных в столбцах с пропусками\n",
    "selected_columns = ['avg_rating', 'processor_speed', 'fast_charging', 'battery_capacity']\n",
    "subset_data = smartph[selected_columns]\n",
    "\n",
    "print(subset_data)"
   ]
  },
  {
   "cell_type": "code",
   "execution_count": 13,
   "metadata": {},
   "outputs": [],
   "source": [
    "# Заполним  прпуски в столбца хavg_rating  processor_speed  fast_charging battery_capacity  медианой\n",
    "smartph.avg_rating = smartph.avg_rating.fillna(smartph.avg_rating.median())\n",
    "smartph.processor_speed = smartph.processor_speed.fillna(smartph.processor_speed.median())\n",
    "smartph.fast_charging = smartph.fast_charging.fillna(smartph.fast_charging.median())\n",
    "smartph.battery_capacity = smartph.battery_capacity.fillna(smartph.battery_capacity.median())"
   ]
  },
  {
   "cell_type": "code",
   "execution_count": 14,
   "metadata": {},
   "outputs": [
    {
     "name": "stdout",
     "output_type": "stream",
     "text": [
      "<class 'pandas.core.frame.DataFrame'>\n",
      "RangeIndex: 980 entries, 0 to 979\n",
      "Data columns (total 22 columns):\n",
      " #   Column                     Non-Null Count  Dtype  \n",
      "---  ------                     --------------  -----  \n",
      " 0   brand_name                 980 non-null    object \n",
      " 1   model                      980 non-null    object \n",
      " 2   price                      980 non-null    int64  \n",
      " 3   avg_rating                 980 non-null    float64\n",
      " 4   5g_or_not                  980 non-null    int64  \n",
      " 5   processor_brand            960 non-null    object \n",
      " 6   num_cores                  974 non-null    float64\n",
      " 7   processor_speed            980 non-null    float64\n",
      " 8   battery_capacity           980 non-null    float64\n",
      " 9   fast_charging_available    980 non-null    int64  \n",
      " 10  fast_charging              980 non-null    float64\n",
      " 11  ram_capacity               980 non-null    int64  \n",
      " 12  internal_memory            980 non-null    int64  \n",
      " 13  screen_size                980 non-null    float64\n",
      " 14  refresh_rate               980 non-null    int64  \n",
      " 15  num_rear_cameras           980 non-null    int64  \n",
      " 16  os                         966 non-null    object \n",
      " 17  primary_camera_rear        980 non-null    float64\n",
      " 18  primary_camera_front       975 non-null    float64\n",
      " 19  extended_memory_available  980 non-null    int64  \n",
      " 20  resolution_height          980 non-null    int64  \n",
      " 21  resolution_width           980 non-null    int64  \n",
      "dtypes: float64(8), int64(10), object(4)\n",
      "memory usage: 168.6+ KB\n"
     ]
    }
   ],
   "source": [
    "smartph.info()"
   ]
  },
  {
   "cell_type": "code",
   "execution_count": 15,
   "metadata": {},
   "outputs": [],
   "source": [
    "# Видим что осталось совсем немного пропусков. Избавимся от них :)\n",
    "smartph.dropna(inplace=True)"
   ]
  },
  {
   "cell_type": "code",
   "execution_count": 16,
   "metadata": {},
   "outputs": [
    {
     "data": {
      "text/plain": [
       "brand_name                   0\n",
       "model                        0\n",
       "price                        0\n",
       "avg_rating                   0\n",
       "5g_or_not                    0\n",
       "processor_brand              0\n",
       "num_cores                    0\n",
       "processor_speed              0\n",
       "battery_capacity             0\n",
       "fast_charging_available      0\n",
       "fast_charging                0\n",
       "ram_capacity                 0\n",
       "internal_memory              0\n",
       "screen_size                  0\n",
       "refresh_rate                 0\n",
       "num_rear_cameras             0\n",
       "os                           0\n",
       "primary_camera_rear          0\n",
       "primary_camera_front         0\n",
       "extended_memory_available    0\n",
       "resolution_height            0\n",
       "resolution_width             0\n",
       "dtype: int64"
      ]
     },
     "execution_count": 16,
     "metadata": {},
     "output_type": "execute_result"
    }
   ],
   "source": [
    "smartph.isna().sum()"
   ]
  },
  {
   "cell_type": "markdown",
   "metadata": {},
   "source": [
    "Исследовательский анализ данных (EDA)"
   ]
  },
  {
   "cell_type": "code",
   "execution_count": 17,
   "metadata": {},
   "outputs": [
    {
     "data": {
      "image/png": "[encoded data removed]",
      "text/plain": [
       "<Figure size 640x480 with 1 Axes>"
      ]
     },
     "metadata": {},
     "output_type": "display_data"
    }
   ],
   "source": [
    "# исследуем распределение цены\n",
    "num_bins = len(smartph['price'].unique())\n",
    "\n",
    "plt.hist(smartph['price'], bins=num_bins, alpha=0.8, label='Цена')  # Увеличиваем значение alpha\n",
    "\n",
    "plt.title('Распределение цен')\n",
    "plt.xlabel('Цена')\n",
    "plt.ylabel('Количество')\n",
    "\n",
    "plt.legend()\n",
    "plt.savefig('hist_price.png')\n",
    "plt.show()"
   ]
  },
  {
   "cell_type": "code",
   "execution_count": 18,
   "metadata": {},
   "outputs": [
    {
     "name": "stdout",
     "output_type": "stream",
     "text": [
      "До 15,000 руб: 34.36%\n",
      "15,000 - 50,000 руб: 50.69%\n",
      "50,000 - 100,000 руб: 10.67%\n",
      "Выше 100,000 руб: 4.27%\n"
     ]
    }
   ],
   "source": [
    "# Вычисляем количество телефонов в каждой ценовй категории\n",
    "count_below_15000 = len(smartph[smartph['price'] < 15000])\n",
    "count_between_15000_and_50000 = len(smartph[(smartph['price'] >= 15000) & (smartph['price'] < 50000)])\n",
    "count_between_50000_and_100000 = len(smartph[(smartph['price'] >= 50000) & (smartph['price'] < 100000)])\n",
    "count_above_100000 = len(smartph[smartph['price'] >= 100000])\n",
    "\n",
    "total_count = len(smartph)\n",
    "\n",
    "percent_below_15000 = (count_below_15000 / total_count) * 100\n",
    "percent_between_15000_and_50000 = (count_between_15000_and_50000 / total_count) * 100\n",
    "percent_between_50000_and_100000 = (count_between_50000_and_100000 / total_count) * 100\n",
    "percent_above_100000 = (count_above_100000 / total_count) * 100\n",
    "\n",
    "print(f'До 15,000 руб: {percent_below_15000:.2f}%')\n",
    "print(f'15,000 - 50,000 руб: {percent_between_15000_and_50000:.2f}%')\n",
    "print(f'50,000 - 100,000 руб: {percent_between_50000_and_100000:.2f}%')\n",
    "print(f'Выше 100,000 руб: {percent_above_100000:.2f}%')"
   ]
  },
  {
   "cell_type": "code",
   "execution_count": 19,
   "metadata": {},
   "outputs": [
    {
     "data": {
      "image/png": "[encoded data removed]",
      "text/plain": [
       "<Figure size 1200x600 with 1 Axes>"
      ]
     },
     "metadata": {},
     "output_type": "display_data"
    }
   ],
   "source": [
    "# исследуем средние цены по  брендам\n",
    "brands = smartph.groupby('brand_name')['price'].mean()\n",
    "\n",
    "# Выбираем топ-10 брендов с наибольшей средней ценой и сортируем их по убыванию цены\n",
    "top10 = brands.sort_values(ascending=False).head(10)\n",
    "\n",
    "# Создаем график\n",
    "plt.figure(figsize=(12, 6))\n",
    "\n",
    "# Используем seaborn для построения столбчатой диаграммы\n",
    "ax = sns.barplot(x=top10.index, y=top10, order=top10.index)\n",
    "\n",
    "# Поворачиваем подписи на оси X для улучшения читаемости\n",
    "plt.xticks(rotation=90)\n",
    "\n",
    "# Заголовок и подписи осей\n",
    "plt.title('Топ 10 брендов по средней цене', fontsize=14)\n",
    "ax.set_xlabel('Бренды', fontsize=12)\n",
    "ax.set_ylabel('Средняя цена', fontsize=12)\n",
    "\n",
    "# Устанавливаем наименования брендов на ось X\n",
    "ax.set_xticklabels(top10.index, rotation=90)\n",
    "\n",
    "# Выводим график\n",
    "plt.tight_layout()\n",
    "plt.savefig('top_brands.png')\n",
    "plt.show()"
   ]
  },
  {
   "cell_type": "code",
   "execution_count": 20,
   "metadata": {},
   "outputs": [
    {
     "data": {
      "image/png": "[encoded data removed]",
      "text/plain": [
       "<Figure size 1000x600 with 1 Axes>"
      ]
     },
     "metadata": {},
     "output_type": "display_data"
    }
   ],
   "source": [
    "# исследуем телефоны по размеру  экранов\n",
    "top10_screen_sizes = smartph['screen_size'].value_counts().head(10)\n",
    "\n",
    "df_plot = pd.DataFrame({'Screen Size': top10_screen_sizes.index, 'Count': top10_screen_sizes.values})\n",
    "\n",
    "plt.figure(figsize=(10, 6))\n",
    "ax = sns.barplot(x='Screen Size', y='Count', data=df_plot, palette='viridis')\n",
    "ax.set_ylabel('Количесто телефонов')\n",
    "ax.set_xlabel('Размеры экранов')\n",
    "ax.set_title('Топ 10 телефонов по экранам')\n",
    "\n",
    "plt.xticks(rotation=45)\n",
    "plt.tight_layout()\n",
    "plt.savefig('top_screen.png')\n",
    "plt.show()"
   ]
  },
  {
   "cell_type": "code",
   "execution_count": 21,
   "metadata": {},
   "outputs": [
    {
     "name": "stderr",
     "output_type": "stream",
     "text": [
      "C:\\Users\\admin\\AppData\\Local\\Temp\\ipykernel_19492\\1366725480.py:7: UserWarning: Ignoring `palette` because no `hue` variable has been assigned.\n",
      "  ax = sns.histplot(data=smartph, x='capacity_group', palette='viridis', discrete=True)\n"
     ]
    },
    {
     "data": {
      "image/png": "[encoded data removed]",
      "text/plain": [
       "<Figure size 1000x600 with 1 Axes>"
      ]
     },
     "metadata": {},
     "output_type": "display_data"
    }
   ],
   "source": [
    "# исследуем телефоны по емкости аккумуляторов\n",
    "bins = [0, 2000, 3000, 4000, 5000, float('inf')]\n",
    "labels = ['<2000', '2000-3000', '3000-4000', '4000-5000', '>5000']\n",
    "smartph['capacity_group'] = pd.cut(smartph['battery_capacity'], bins=bins, labels=labels)\n",
    "\n",
    "plt.figure(figsize=(10, 6))\n",
    "ax = sns.histplot(data=smartph, x='capacity_group', palette='viridis', discrete=True)\n",
    "\n",
    "for p in ax.patches:\n",
    "    ax.annotate(f'{p.get_height()}', (p.get_x() + p.get_width() / 2., p.get_height()),\n",
    "                ha='center', va='baseline', fontsize=12)\n",
    "\n",
    "plt.xlabel('Емкость аккумулятора (mAh)')\n",
    "plt.ylabel('Количество')\n",
    "plt.title('Группы телефонов о объему акккумулятора')\n",
    "plt.xticks(rotation=45)\n",
    "plt.tight_layout()\n",
    "plt.savefig('capacity.png')\n",
    "plt.show()"
   ]
  },
  {
   "cell_type": "code",
   "execution_count": 22,
   "metadata": {},
   "outputs": [
    {
     "data": {
      "image/png": "[encoded data removed]",
      "text/plain": [
       "<Figure size 1200x600 with 1 Axes>"
      ]
     },
     "metadata": {},
     "output_type": "display_data"
    }
   ],
   "source": [
    "# исследуем распределение смартфонов по объему памяти\n",
    "unique_counts = smartph['internal_memory'].value_counts().reset_index()\n",
    "unique_counts.columns = ['Internal Memory (GB)', 'Count']\n",
    "\n",
    "# Строим гистограмму на основе уникальных значений\n",
    "plt.figure(figsize=(12, 6))\n",
    "ax = sns.barplot(data=unique_counts, x='Internal Memory (GB)', y='Count', color='skyblue')\n",
    "\n",
    "plt.xlabel('Объем памяти (GB)')\n",
    "plt.ylabel('Количество')\n",
    "plt.title('Объемы памяти телефонов')\n",
    "\n",
    "# Добавляем цифры на столбцах гистограммы\n",
    "for p in ax.patches:\n",
    "    ax.annotate(format(p.get_height(), '.0f'), \n",
    "                (p.get_x() + p.get_width() / 2., p.get_height()), \n",
    "                ha='center', va='center', \n",
    "                fontsize=10, color='black', xytext=(0, 5), \n",
    "                textcoords='offset points')\n",
    "\n",
    "plt.xticks(rotation=90)\n",
    "plt.tight_layout()\n",
    "plt.savefig('memory.png')\n",
    "plt.show()"
   ]
  },
  {
   "cell_type": "code",
   "execution_count": 23,
   "metadata": {},
   "outputs": [
    {
     "data": {
      "image/png": "[encoded data removed]",
      "text/plain": [
       "<Figure size 1200x1000 with 4 Axes>"
      ]
     },
     "metadata": {},
     "output_type": "display_data"
    }
   ],
   "source": [
    "# Псомтрим корреляцию цены с важными тех параметрами телефонов\n",
    "numeric_cols = ['price', 'avg_rating', 'processor_speed', 'battery_capacity', 'ram_capacity']\n",
    "\n",
    "df_numeric = smartph[numeric_cols]\n",
    "\n",
    "corr = df_numeric.corr()\n",
    "\n",
    "fig, axs = plt.subplots(2, 2, figsize=(12, 10))\n",
    "fig.suptitle('Зависимости цены от технических характеристик смартфонов', fontsize=16)\n",
    "\n",
    "sns.scatterplot(x='avg_rating', y='price', data=df_numeric, ax=axs[0, 0])\n",
    "axs[0, 0].set_title('Зависимость цены от рейтинга')\n",
    "\n",
    "sns.scatterplot(x='processor_speed', y='price', data=df_numeric, ax=axs[0, 1])\n",
    "axs[0, 1].set_title('Зависимость цены от быстродействия процессора')\n",
    "\n",
    "sns.scatterplot(x='battery_capacity', y='price', data=df_numeric, ax=axs[1, 0])\n",
    "axs[1, 0].set_title('Зависимость цены отемкости аккумулятора')\n",
    "\n",
    "sns.scatterplot(x='ram_capacity', y='price', data=df_numeric, ax=axs[1, 1])\n",
    "axs[1, 1].set_title('Зависимость цены от велиины памяти')\n",
    "\n",
    "plt.tight_layout(rect=[0, 0.03, 1, 0.95])  # Устанавливаем область для заголовка\n",
    "plt.savefig('corr.png')\n",
    "plt.show()"
   ]
  },
  {
   "cell_type": "markdown",
   "metadata": {},
   "source": [
    "Построение дашборда "
   ]
  },
  {
   "cell_type": "code",
   "execution_count": 24,
   "metadata": {},
   "outputs": [],
   "source": [
    "graphs = ['hist_price.png', 'top_brands.png', 'top_screen.png', 'capacity.png', 'memory.png', 'corr.png']"
   ]
  },
  {
   "cell_type": "code",
   "execution_count": 25,
   "metadata": {},
   "outputs": [
    {
     "data": {
      "image/png": "[encoded data removed]",
      "text/plain": [
       "<Figure size 1500x1000 with 6 Axes>"
      ]
     },
     "metadata": {},
     "output_type": "display_data"
    }
   ],
   "source": [
    "f, axarr = plt.subplots(2, 3, figsize=(15, 10))\n",
    "for i in range(2):\n",
    "    for j in range(3):\n",
    "        index = i * 3 + j\n",
    "        if index < len(graphs):\n",
    "            axarr[i][j].imshow(plt.imread(graphs[index]))\n",
    "            axarr[i][j].axis('off')\n",
    "\n",
    "plt.tight_layout()\n",
    "plt.show()"
   ]
  },
  {
   "cell_type": "markdown",
   "metadata": {},
   "source": [
    "Общий вывод о проделанной работе"
   ]
  },
  {
   "cell_type": "markdown",
   "metadata": {},
   "source": [
    "* в датафрейме 22 столбцов\n",
    "* десять из них имеют тип `object`\n",
    "* два из них имеют тип `float64`\n",
    "* десять столбца имеют тип `int64`\n",
    "* всего в датафрейме 980 строк\n",
    "* в столбцах пропусков нет\n",
    "* объем занимаемый датафреймом 168,6+ KB \n",
    "* более 95 % телефонов - стоимостью менее 100 000;\n",
    "* самыйдорогой бренд смартфона - VERTU\n",
    "* самый массовый смартфон по параметрам экрана - 6,5 дюйма\n",
    "* объем аккумулятора  4000 -50000 mAh наиболее распространен\n",
    "* наиболее применимый объем памяти в смартфонах - 128 ГБ\n",
    "* больше всего на цену смартфона влияет рейтинг и быстродействие процессора, меньше из представенных характеристик - объем аккумулятора и памяти"
   ]
  },
  {
   "cell_type": "code",
   "execution_count": 38,
   "metadata": {},
   "outputs": [
    {
     "data": {
      "application/vnd.plotly.v1+json": {
       "config": {
        "plotlyServerURL": "https://plot.ly"
       },
       "data": [
        {
         "customdata": [
          [
           "apple"
          ],
          [
           "apple"
          ],
          [
           "apple"
          ],
          [
           "apple"
          ],
          [
           "apple"
          ],
          [
           "apple"
          ],
          [
           "apple"
          ],
          [
           "apple"
          ],
          [
           "apple"
          ],
          [
           "apple"
          ],
          [
           "apple"
          ],
          [
           "apple"
          ],
          [
           "apple"
          ],
          [
           "apple"
          ],
          [
           "apple"
          ],
          [
           "apple"
          ],
          [
           "apple"
          ],
          [
           "apple"
          ],
          [
           "apple"
          ],
          [
           "apple"
          ],
          [
           "apple"
          ],
          [
           "apple"
          ],
          [
           "apple"
          ],
          [
           "apple"
          ],
          [
           "apple"
          ],
          [
           "apple"
          ],
          [
           "apple"
          ],
          [
           "apple"
          ],
          [
           "apple"
          ],
          [
           "apple"
          ],
          [
           "apple"
          ],
          [
           "apple"
          ],
          [
           "apple"
          ],
          [
           "apple"
          ],
          [
           "apple"
          ],
          [
           "apple"
          ],
          [
           "apple"
          ],
          [
           "apple"
          ],
          [
           "apple"
          ],
          [
           "apple"
          ],
          [
           "apple"
          ],
          [
           "asus"
          ],
          [
           "asus"
          ],
          [
           "asus"
          ],
          [
           "asus"
          ],
          [
           "asus"
          ],
          [
           "asus"
          ],
          [
           "blackview"
          ],
          [
           "blu"
          ],
          [
           "cola"
          ],
          [
           "doogee"
          ],
          [
           "doogee"
          ],
          [
           "duoqin"
          ],
          [
           "gionee"
          ],
          [
           "gionee"
          ],
          [
           "gionee"
          ],
          [
           "google"
          ],
          [
           "google"
          ],
          [
           "google"
          ],
          [
           "google"
          ],
          [
           "google"
          ],
          [
           "google"
          ],
          [
           "google"
          ],
          [
           "google"
          ],
          [
           "google"
          ],
          [
           "google"
          ],
          [
           "google"
          ],
          [
           "google"
          ],
          [
           "google"
          ],
          [
           "google"
          ],
          [
           "honor"
          ],
          [
           "honor"
          ],
          [
           "honor"
          ],
          [
           "honor"
          ],
          [
           "honor"
          ],
          [
           "honor"
          ],
          [
           "honor"
          ],
          [
           "honor"
          ],
          [
           "honor"
          ],
          [
           "honor"
          ],
          [
           "honor"
          ],
          [
           "honor"
          ],
          [
           "honor"
          ],
          [
           "huawei"
          ],
          [
           "huawei"
          ],
          [
           "huawei"
          ],
          [
           "huawei"
          ],
          [
           "huawei"
          ],
          [
           "huawei"
          ],
          [
           "huawei"
          ],
          [
           "huawei"
          ],
          [
           "huawei"
          ],
          [
           "huawei"
          ],
          [
           "huawei"
          ],
          [
           "huawei"
          ],
          [
           "huawei"
          ],
          [
           "infinix"
          ],
          [
           "infinix"
          ],
          [
           "infinix"
          ],
          [
           "infinix"
          ],
          [
           "infinix"
          ],
          [
           "infinix"
          ],
          [
           "infinix"
          ],
          [
           "infinix"
          ],
          [
           "infinix"
          ],
          [
           "infinix"
          ],
          [
           "infinix"
          ],
          [
           "infinix"
          ],
          [
           "infinix"
          ],
          [
           "infinix"
          ],
          [
           "infinix"
          ],
          [
           "infinix"
          ],
          [
           "infinix"
          ],
          [
           "infinix"
          ],
          [
           "infinix"
          ],
          [
           "infinix"
          ],
          [
           "infinix"
          ],
          [
           "infinix"
          ],
          [
           "infinix"
          ],
          [
           "infinix"
          ],
          [
           "infinix"
          ],
          [
           "infinix"
          ],
          [
           "infinix"
          ],
          [
           "infinix"
          ],
          [
           "infinix"
          ],
          [
           "iqoo"
          ],
          [
           "iqoo"
          ],
          [
           "iqoo"
          ],
          [
           "iqoo"
          ],
          [
           "iqoo"
          ],
          [
           "iqoo"
          ],
          [
           "iqoo"
          ],
          [
           "iqoo"
          ],
          [
           "iqoo"
          ],
          [
           "iqoo"
          ],
          [
           "iqoo"
          ],
          [
           "iqoo"
          ],
          [
           "iqoo"
          ],
          [
           "iqoo"
          ],
          [
           "iqoo"
          ],
          [
           "iqoo"
          ],
          [
           "iqoo"
          ],
          [
           "iqoo"
          ],
          [
           "iqoo"
          ],
          [
           "iqoo"
          ],
          [
           "iqoo"
          ],
          [
           "iqoo"
          ],
          [
           "iqoo"
          ],
          [
           "iqoo"
          ],
          [
           "iqoo"
          ],
          [
           "iqoo"
          ],
          [
           "iqoo"
          ],
          [
           "iqoo"
          ],
          [
           "iqoo"
          ],
          [
           "iqoo"
          ],
          [
           "iqoo"
          ],
          [
           "iqoo"
          ],
          [
           "itel"
          ],
          [
           "itel"
          ],
          [
           "itel"
          ],
          [
           "itel"
          ],
          [
           "itel"
          ],
          [
           "itel"
          ],
          [
           "itel"
          ],
          [
           "jio"
          ],
          [
           "jio"
          ],
          [
           "jio"
          ],
          [
           "lava"
          ],
          [
           "lava"
          ],
          [
           "lava"
          ],
          [
           "lava"
          ],
          [
           "leeco"
          ],
          [
           "leitz"
          ],
          [
           "lenovo"
          ],
          [
           "lenovo"
          ],
          [
           "letv"
          ],
          [
           "letv"
          ],
          [
           "letv"
          ],
          [
           "lg"
          ],
          [
           "lyf"
          ],
          [
           "lyf"
          ],
          [
           "micromax"
          ],
          [
           "micromax"
          ],
          [
           "micromax"
          ],
          [
           "motorola"
          ],
          [
           "motorola"
          ],
          [
           "motorola"
          ],
          [
           "motorola"
          ],
          [
           "motorola"
          ],
          [
           "motorola"
          ],
          [
           "motorola"
          ],
          [
           "motorola"
          ],
          [
           "motorola"
          ],
          [
           "motorola"
          ],
          [
           "motorola"
          ],
          [
           "motorola"
          ],
          [
           "motorola"
          ],
          [
           "motorola"
          ],
          [
           "motorola"
          ],
          [
           "motorola"
          ],
          [
           "motorola"
          ],
          [
           "motorola"
          ],
          [
           "motorola"
          ],
          [
           "motorola"
          ],
          [
           "motorola"
          ],
          [
           "motorola"
          ],
          [
           "motorola"
          ],
          [
           "motorola"
          ],
          [
           "motorola"
          ],
          [
           "motorola"
          ],
          [
           "motorola"
          ],
          [
           "motorola"
          ],
          [
           "motorola"
          ],
          [
           "motorola"
          ],
          [
           "motorola"
          ],
          [
           "motorola"
          ],
          [
           "motorola"
          ],
          [
           "motorola"
          ],
          [
           "motorola"
          ],
          [
           "motorola"
          ],
          [
           "motorola"
          ],
          [
           "motorola"
          ],
          [
           "motorola"
          ],
          [
           "motorola"
          ],
          [
           "motorola"
          ],
          [
           "motorola"
          ],
          [
           "motorola"
          ],
          [
           "motorola"
          ],
          [
           "motorola"
          ],
          [
           "motorola"
          ],
          [
           "motorola"
          ],
          [
           "motorola"
          ],
          [
           "motorola"
          ],
          [
           "motorola"
          ],
          [
           "motorola"
          ],
          [
           "motorola"
          ],
          [
           "nokia"
          ],
          [
           "nokia"
          ],
          [
           "nokia"
          ],
          [
           "nokia"
          ],
          [
           "nokia"
          ],
          [
           "nokia"
          ],
          [
           "nokia"
          ],
          [
           "nokia"
          ],
          [
           "nokia"
          ],
          [
           "nokia"
          ],
          [
           "nokia"
          ],
          [
           "nokia"
          ],
          [
           "nothing"
          ],
          [
           "nothing"
          ],
          [
           "nothing"
          ],
          [
           "nothing"
          ],
          [
           "nothing"
          ],
          [
           "nubia"
          ],
          [
           "nubia"
          ],
          [
           "nubia"
          ],
          [
           "nubia"
          ],
          [
           "nubia"
          ],
          [
           "nubia"
          ],
          [
           "oneplus"
          ],
          [
           "oneplus"
          ],
          [
           "oneplus"
          ],
          [
           "oneplus"
          ],
          [
           "oneplus"
          ],
          [
           "oneplus"
          ],
          [
           "oneplus"
          ],
          [
           "oneplus"
          ],
          [
           "oneplus"
          ],
          [
           "oneplus"
          ],
          [
           "oneplus"
          ],
          [
           "oneplus"
          ],
          [
           "oneplus"
          ],
          [
           "oneplus"
          ],
          [
           "oneplus"
          ],
          [
           "oneplus"
          ],
          [
           "oneplus"
          ],
          [
           "oneplus"
          ],
          [
           "oneplus"
          ],
          [
           "oneplus"
          ],
          [
           "oneplus"
          ],
          [
           "oneplus"
          ],
          [
           "oneplus"
          ],
          [
           "oneplus"
          ],
          [
           "oneplus"
          ],
          [
           "oneplus"
          ],
          [
           "oneplus"
          ],
          [
           "oneplus"
          ],
          [
           "oneplus"
          ],
          [
           "oneplus"
          ],
          [
           "oneplus"
          ],
          [
           "oneplus"
          ],
          [
           "oneplus"
          ],
          [
           "oneplus"
          ],
          [
           "oneplus"
          ],
          [
           "oneplus"
          ],
          [
           "oneplus"
          ],
          [
           "oneplus"
          ],
          [
           "oneplus"
          ],
          [
           "oneplus"
          ],
          [
           "oneplus"
          ],
          [
           "oneplus"
          ],
          [
           "oppo"
          ],
          [
           "oppo"
          ],
          [
           "oppo"
          ],
          [
           "oppo"
          ],
          [
           "oppo"
          ],
          [
           "oppo"
          ],
          [
           "oppo"
          ],
          [
           "oppo"
          ],
          [
           "oppo"
          ],
          [
           "oppo"
          ],
          [
           "oppo"
          ],
          [
           "oppo"
          ],
          [
           "oppo"
          ],
          [
           "oppo"
          ],
          [
           "oppo"
          ],
          [
           "oppo"
          ],
          [
           "oppo"
          ],
          [
           "oppo"
          ],
          [
           "oppo"
          ],
          [
           "oppo"
          ],
          [
           "oppo"
          ],
          [
           "oppo"
          ],
          [
           "oppo"
          ],
          [
           "oppo"
          ],
          [
           "oppo"
          ],
          [
           "oppo"
          ],
          [
           "oppo"
          ],
          [
           "oppo"
          ],
          [
           "oppo"
          ],
          [
           "oppo"
          ],
          [
           "oppo"
          ],
          [
           "oppo"
          ],
          [
           "oppo"
          ],
          [
           "oppo"
          ],
          [
           "oppo"
          ],
          [
           "oppo"
          ],
          [
           "oppo"
          ],
          [
           "oppo"
          ],
          [
           "oppo"
          ],
          [
           "oppo"
          ],
          [
           "oppo"
          ],
          [
           "oppo"
          ],
          [
           "oppo"
          ],
          [
           "oppo"
          ],
          [
           "oppo"
          ],
          [
           "oppo"
          ],
          [
           "oppo"
          ],
          [
           "oppo"
          ],
          [
           "oppo"
          ],
          [
           "oppo"
          ],
          [
           "oppo"
          ],
          [
           "oppo"
          ],
          [
           "oppo"
          ],
          [
           "oppo"
          ],
          [
           "oppo"
          ],
          [
           "oppo"
          ],
          [
           "oppo"
          ],
          [
           "oppo"
          ],
          [
           "oppo"
          ],
          [
           "oppo"
          ],
          [
           "oppo"
          ],
          [
           "oppo"
          ],
          [
           "oppo"
          ],
          [
           "oppo"
          ],
          [
           "oppo"
          ],
          [
           "oppo"
          ],
          [
           "oppo"
          ],
          [
           "oppo"
          ],
          [
           "oppo"
          ],
          [
           "oppo"
          ],
          [
           "oppo"
          ],
          [
           "oppo"
          ],
          [
           "oppo"
          ],
          [
           "oppo"
          ],
          [
           "oppo"
          ],
          [
           "oppo"
          ],
          [
           "oppo"
          ],
          [
           "oppo"
          ],
          [
           "oppo"
          ],
          [
           "oppo"
          ],
          [
           "oppo"
          ],
          [
           "oppo"
          ],
          [
           "oppo"
          ],
          [
           "oppo"
          ],
          [
           "oukitel"
          ],
          [
           "oukitel"
          ],
          [
           "poco"
          ],
          [
           "poco"
          ],
          [
           "poco"
          ],
          [
           "poco"
          ],
          [
           "poco"
          ],
          [
           "poco"
          ],
          [
           "poco"
          ],
          [
           "poco"
          ],
          [
           "poco"
          ],
          [
           "poco"
          ],
          [
           "poco"
          ],
          [
           "poco"
          ],
          [
           "poco"
          ],
          [
           "poco"
          ],
          [
           "poco"
          ],
          [
           "poco"
          ],
          [
           "poco"
          ],
          [
           "poco"
          ],
          [
           "poco"
          ],
          [
           "poco"
          ],
          [
           "poco"
          ],
          [
           "poco"
          ],
          [
           "poco"
          ],
          [
           "poco"
          ],
          [
           "poco"
          ],
          [
           "poco"
          ],
          [
           "poco"
          ],
          [
           "poco"
          ],
          [
           "poco"
          ],
          [
           "poco"
          ],
          [
           "poco"
          ],
          [
           "poco"
          ],
          [
           "poco"
          ],
          [
           "poco"
          ],
          [
           "poco"
          ],
          [
           "poco"
          ],
          [
           "poco"
          ],
          [
           "poco"
          ],
          [
           "poco"
          ],
          [
           "poco"
          ],
          [
           "poco"
          ],
          [
           "realme"
          ],
          [
           "realme"
          ],
          [
           "realme"
          ],
          [
           "realme"
          ],
          [
           "realme"
          ],
          [
           "realme"
          ],
          [
           "realme"
          ],
          [
           "realme"
          ],
          [
           "realme"
          ],
          [
           "realme"
          ],
          [
           "realme"
          ],
          [
           "realme"
          ],
          [
           "realme"
          ],
          [
           "realme"
          ],
          [
           "realme"
          ],
          [
           "realme"
          ],
          [
           "realme"
          ],
          [
           "realme"
          ],
          [
           "realme"
          ],
          [
           "realme"
          ],
          [
           "realme"
          ],
          [
           "realme"
          ],
          [
           "realme"
          ],
          [
           "realme"
          ],
          [
           "realme"
          ],
          [
           "realme"
          ],
          [
           "realme"
          ],
          [
           "realme"
          ],
          [
           "realme"
          ],
          [
           "realme"
          ],
          [
           "realme"
          ],
          [
           "realme"
          ],
          [
           "realme"
          ],
          [
           "realme"
          ],
          [
           "realme"
          ],
          [
           "realme"
          ],
          [
           "realme"
          ],
          [
           "realme"
          ],
          [
           "realme"
          ],
          [
           "realme"
          ],
          [
           "realme"
          ],
          [
           "realme"
          ],
          [
           "realme"
          ],
          [
           "realme"
          ],
          [
           "realme"
          ],
          [
           "realme"
          ],
          [
           "realme"
          ],
          [
           "realme"
          ],
          [
           "realme"
          ],
          [
           "realme"
          ],
          [
           "realme"
          ],
          [
           "realme"
          ],
          [
           "realme"
          ],
          [
           "realme"
          ],
          [
           "realme"
          ],
          [
           "realme"
          ],
          [
           "realme"
          ],
          [
           "realme"
          ],
          [
           "realme"
          ],
          [
           "realme"
          ],
          [
           "realme"
          ],
          [
           "realme"
          ],
          [
           "realme"
          ],
          [
           "realme"
          ],
          [
           "realme"
          ],
          [
           "realme"
          ],
          [
           "realme"
          ],
          [
           "realme"
          ],
          [
           "realme"
          ],
          [
           "realme"
          ],
          [
           "realme"
          ],
          [
           "realme"
          ],
          [
           "realme"
          ],
          [
           "realme"
          ],
          [
           "realme"
          ],
          [
           "realme"
          ],
          [
           "realme"
          ],
          [
           "realme"
          ],
          [
           "realme"
          ],
          [
           "realme"
          ],
          [
           "realme"
          ],
          [
           "realme"
          ],
          [
           "realme"
          ],
          [
           "realme"
          ],
          [
           "realme"
          ],
          [
           "realme"
          ],
          [
           "realme"
          ],
          [
           "realme"
          ],
          [
           "realme"
          ],
          [
           "realme"
          ],
          [
           "realme"
          ],
          [
           "realme"
          ],
          [
           "realme"
          ],
          [
           "realme"
          ],
          [
           "realme"
          ],
          [
           "realme"
          ],
          [
           "realme"
          ],
          [
           "redmi"
          ],
          [
           "redmi"
          ],
          [
           "redmi"
          ],
          [
           "samsung"
          ],
          [
           "samsung"
          ],
          [
           "samsung"
          ],
          [
           "samsung"
          ],
          [
           "samsung"
          ],
          [
           "samsung"
          ],
          [
           "samsung"
          ],
          [
           "samsung"
          ],
          [
           "samsung"
          ],
          [
           "samsung"
          ],
          [
           "samsung"
          ],
          [
           "samsung"
          ],
          [
           "samsung"
          ],
          [
           "samsung"
          ],
          [
           "samsung"
          ],
          [
           "samsung"
          ],
          [
           "samsung"
          ],
          [
           "samsung"
          ],
          [
           "samsung"
          ],
          [
           "samsung"
          ],
          [
           "samsung"
          ],
          [
           "samsung"
          ],
          [
           "samsung"
          ],
          [
           "samsung"
          ],
          [
           "samsung"
          ],
          [
           "samsung"
          ],
          [
           "samsung"
          ],
          [
           "samsung"
          ],
          [
           "samsung"
          ],
          [
           "samsung"
          ],
          [
           "samsung"
          ],
          [
           "samsung"
          ],
          [
           "samsung"
          ],
          [
           "samsung"
          ],
          [
           "samsung"
          ],
          [
           "samsung"
          ],
          [
           "samsung"
          ],
          [
           "samsung"
          ],
          [
           "samsung"
          ],
          [
           "samsung"
          ],
          [
           "samsung"
          ],
          [
           "samsung"
          ],
          [
           "samsung"
          ],
          [
           "samsung"
          ],
          [
           "samsung"
          ],
          [
           "samsung"
          ],
          [
           "samsung"
          ],
          [
           "samsung"
          ],
          [
           "samsung"
          ],
          [
           "samsung"
          ],
          [
           "samsung"
          ],
          [
           "samsung"
          ],
          [
           "samsung"
          ],
          [
           "samsung"
          ],
          [
           "samsung"
          ],
          [
           "samsung"
          ],
          [
           "samsung"
          ],
          [
           "samsung"
          ],
          [
           "samsung"
          ],
          [
           "samsung"
          ],
          [
           "samsung"
          ],
          [
           "samsung"
          ],
          [
           "samsung"
          ],
          [
           "samsung"
          ],
          [
           "samsung"
          ],
          [
           "samsung"
          ],
          [
           "samsung"
          ],
          [
           "samsung"
          ],
          [
           "samsung"
          ],
          [
           "samsung"
          ],
          [
           "samsung"
          ],
          [
           "samsung"
          ],
          [
           "samsung"
          ],
          [
           "samsung"
          ],
          [
           "samsung"
          ],
          [
           "samsung"
          ],
          [
           "samsung"
          ],
          [
           "samsung"
          ],
          [
           "samsung"
          ],
          [
           "samsung"
          ],
          [
           "samsung"
          ],
          [
           "samsung"
          ],
          [
           "samsung"
          ],
          [
           "samsung"
          ],
          [
           "samsung"
          ],
          [
           "samsung"
          ],
          [
           "samsung"
          ],
          [
           "samsung"
          ],
          [
           "samsung"
          ],
          [
           "samsung"
          ],
          [
           "samsung"
          ],
          [
           "samsung"
          ],
          [
           "samsung"
          ],
          [
           "samsung"
          ],
          [
           "samsung"
          ],
          [
           "samsung"
          ],
          [
           "samsung"
          ],
          [
           "samsung"
          ],
          [
           "samsung"
          ],
          [
           "samsung"
          ],
          [
           "samsung"
          ],
          [
           "samsung"
          ],
          [
           "samsung"
          ],
          [
           "samsung"
          ],
          [
           "samsung"
          ],
          [
           "samsung"
          ],
          [
           "samsung"
          ],
          [
           "samsung"
          ],
          [
           "samsung"
          ],
          [
           "samsung"
          ],
          [
           "samsung"
          ],
          [
           "samsung"
          ],
          [
           "samsung"
          ],
          [
           "samsung"
          ],
          [
           "samsung"
          ],
          [
           "samsung"
          ],
          [
           "samsung"
          ],
          [
           "samsung"
          ],
          [
           "samsung"
          ],
          [
           "sharp"
          ],
          [
           "sony"
          ],
          [
           "sony"
          ],
          [
           "sony"
          ],
          [
           "sony"
          ],
          [
           "sony"
          ],
          [
           "sony"
          ],
          [
           "sony"
          ],
          [
           "sony"
          ],
          [
           "sony"
          ],
          [
           "tcl"
          ],
          [
           "tecno"
          ],
          [
           "tecno"
          ],
          [
           "tecno"
          ],
          [
           "tecno"
          ],
          [
           "tecno"
          ],
          [
           "tecno"
          ],
          [
           "tecno"
          ],
          [
           "tecno"
          ],
          [
           "tecno"
          ],
          [
           "tecno"
          ],
          [
           "tecno"
          ],
          [
           "tecno"
          ],
          [
           "tecno"
          ],
          [
           "tecno"
          ],
          [
           "tecno"
          ],
          [
           "tecno"
          ],
          [
           "tecno"
          ],
          [
           "tecno"
          ],
          [
           "tecno"
          ],
          [
           "tecno"
          ],
          [
           "tecno"
          ],
          [
           "tecno"
          ],
          [
           "tecno"
          ],
          [
           "tecno"
          ],
          [
           "tecno"
          ],
          [
           "tecno"
          ],
          [
           "tecno"
          ],
          [
           "tecno"
          ],
          [
           "tecno"
          ],
          [
           "tecno"
          ],
          [
           "tecno"
          ],
          [
           "tecno"
          ],
          [
           "vertu"
          ],
          [
           "vivo"
          ],
          [
           "vivo"
          ],
          [
           "vivo"
          ],
          [
           "vivo"
          ],
          [
           "vivo"
          ],
          [
           "vivo"
          ],
          [
           "vivo"
          ],
          [
           "vivo"
          ],
          [
           "vivo"
          ],
          [
           "vivo"
          ],
          [
           "vivo"
          ],
          [
           "vivo"
          ],
          [
           "vivo"
          ],
          [
           "vivo"
          ],
          [
           "vivo"
          ],
          [
           "vivo"
          ],
          [
           "vivo"
          ],
          [
           "vivo"
          ],
          [
           "vivo"
          ],
          [
           "vivo"
          ],
          [
           "vivo"
          ],
          [
           "vivo"
          ],
          [
           "vivo"
          ],
          [
           "vivo"
          ],
          [
           "vivo"
          ],
          [
           "vivo"
          ],
          [
           "vivo"
          ],
          [
           "vivo"
          ],
          [
           "vivo"
          ],
          [
           "vivo"
          ],
          [
           "vivo"
          ],
          [
           "vivo"
          ],
          [
           "vivo"
          ],
          [
           "vivo"
          ],
          [
           "vivo"
          ],
          [
           "vivo"
          ],
          [
           "vivo"
          ],
          [
           "vivo"
          ],
          [
           "vivo"
          ],
          [
           "vivo"
          ],
          [
           "vivo"
          ],
          [
           "vivo"
          ],
          [
           "vivo"
          ],
          [
           "vivo"
          ],
          [
           "vivo"
          ],
          [
           "vivo"
          ],
          [
           "vivo"
          ],
          [
           "vivo"
          ],
          [
           "vivo"
          ],
          [
           "vivo"
          ],
          [
           "vivo"
          ],
          [
           "vivo"
          ],
          [
           "vivo"
          ],
          [
           "vivo"
          ],
          [
           "vivo"
          ],
          [
           "vivo"
          ],
          [
           "vivo"
          ],
          [
           "vivo"
          ],
          [
           "vivo"
          ],
          [
           "vivo"
          ],
          [
           "vivo"
          ],
          [
           "vivo"
          ],
          [
           "vivo"
          ],
          [
           "vivo"
          ],
          [
           "vivo"
          ],
          [
           "vivo"
          ],
          [
           "vivo"
          ],
          [
           "vivo"
          ],
          [
           "vivo"
          ],
          [
           "vivo"
          ],
          [
           "vivo"
          ],
          [
           "vivo"
          ],
          [
           "vivo"
          ],
          [
           "vivo"
          ],
          [
           "vivo"
          ],
          [
           "vivo"
          ],
          [
           "vivo"
          ],
          [
           "vivo"
          ],
          [
           "vivo"
          ],
          [
           "vivo"
          ],
          [
           "vivo"
          ],
          [
           "vivo"
          ],
          [
           "vivo"
          ],
          [
           "vivo"
          ],
          [
           "vivo"
          ],
          [
           "vivo"
          ],
          [
           "vivo"
          ],
          [
           "vivo"
          ],
          [
           "vivo"
          ],
          [
           "vivo"
          ],
          [
           "vivo"
          ],
          [
           "vivo"
          ],
          [
           "vivo"
          ],
          [
           "vivo"
          ],
          [
           "vivo"
          ],
          [
           "vivo"
          ],
          [
           "vivo"
          ],
          [
           "vivo"
          ],
          [
           "vivo"
          ],
          [
           "vivo"
          ],
          [
           "vivo"
          ],
          [
           "vivo"
          ],
          [
           "vivo"
          ],
          [
           "vivo"
          ],
          [
           "vivo"
          ],
          [
           "vivo"
          ],
          [
           "vivo"
          ],
          [
           "vivo"
          ],
          [
           "vivo"
          ],
          [
           "vivo"
          ],
          [
           "vivo"
          ],
          [
           "xiaomi"
          ],
          [
           "xiaomi"
          ],
          [
           "xiaomi"
          ],
          [
           "xiaomi"
          ],
          [
           "xiaomi"
          ],
          [
           "xiaomi"
          ],
          [
           "xiaomi"
          ],
          [
           "xiaomi"
          ],
          [
           "xiaomi"
          ],
          [
           "xiaomi"
          ],
          [
           "xiaomi"
          ],
          [
           "xiaomi"
          ],
          [
           "xiaomi"
          ],
          [
           "xiaomi"
          ],
          [
           "xiaomi"
          ],
          [
           "xiaomi"
          ],
          [
           "xiaomi"
          ],
          [
           "xiaomi"
          ],
          [
           "xiaomi"
          ],
          [
           "xiaomi"
          ],
          [
           "xiaomi"
          ],
          [
           "xiaomi"
          ],
          [
           "xiaomi"
          ],
          [
           "xiaomi"
          ],
          [
           "xiaomi"
          ],
          [
           "xiaomi"
          ],
          [
           "xiaomi"
          ],
          [
           "xiaomi"
          ],
          [
           "xiaomi"
          ],
          [
           "xiaomi"
          ],
          [
           "xiaomi"
          ],
          [
           "xiaomi"
          ],
          [
           "xiaomi"
          ],
          [
           "xiaomi"
          ],
          [
           "xiaomi"
          ],
          [
           "xiaomi"
          ],
          [
           "xiaomi"
          ],
          [
           "xiaomi"
          ],
          [
           "xiaomi"
          ],
          [
           "xiaomi"
          ],
          [
           "xiaomi"
          ],
          [
           "xiaomi"
          ],
          [
           "xiaomi"
          ],
          [
           "xiaomi"
          ],
          [
           "xiaomi"
          ],
          [
           "xiaomi"
          ],
          [
           "xiaomi"
          ],
          [
           "xiaomi"
          ],
          [
           "xiaomi"
          ],
          [
           "xiaomi"
          ],
          [
           "xiaomi"
          ],
          [
           "xiaomi"
          ],
          [
           "xiaomi"
          ],
          [
           "xiaomi"
          ],
          [
           "xiaomi"
          ],
          [
           "xiaomi"
          ],
          [
           "xiaomi"
          ],
          [
           "xiaomi"
          ],
          [
           "xiaomi"
          ],
          [
           "xiaomi"
          ],
          [
           "xiaomi"
          ],
          [
           "xiaomi"
          ],
          [
           "xiaomi"
          ],
          [
           "xiaomi"
          ],
          [
           "xiaomi"
          ],
          [
           "xiaomi"
          ],
          [
           "xiaomi"
          ],
          [
           "xiaomi"
          ],
          [
           "xiaomi"
          ],
          [
           "xiaomi"
          ],
          [
           "xiaomi"
          ],
          [
           "xiaomi"
          ],
          [
           "xiaomi"
          ],
          [
           "xiaomi"
          ],
          [
           "xiaomi"
          ],
          [
           "xiaomi"
          ],
          [
           "xiaomi"
          ],
          [
           "xiaomi"
          ],
          [
           "xiaomi"
          ],
          [
           "xiaomi"
          ],
          [
           "xiaomi"
          ],
          [
           "xiaomi"
          ],
          [
           "xiaomi"
          ],
          [
           "xiaomi"
          ],
          [
           "xiaomi"
          ],
          [
           "xiaomi"
          ],
          [
           "xiaomi"
          ],
          [
           "xiaomi"
          ],
          [
           "xiaomi"
          ],
          [
           "xiaomi"
          ],
          [
           "xiaomi"
          ],
          [
           "xiaomi"
          ],
          [
           "xiaomi"
          ],
          [
           "xiaomi"
          ],
          [
           "xiaomi"
          ],
          [
           "xiaomi"
          ],
          [
           "xiaomi"
          ],
          [
           "xiaomi"
          ],
          [
           "xiaomi"
          ],
          [
           "xiaomi"
          ],
          [
           "xiaomi"
          ],
          [
           "xiaomi"
          ],
          [
           "xiaomi"
          ],
          [
           "xiaomi"
          ],
          [
           "xiaomi"
          ],
          [
           "xiaomi"
          ],
          [
           "xiaomi"
          ],
          [
           "xiaomi"
          ],
          [
           "xiaomi"
          ],
          [
           "xiaomi"
          ],
          [
           "xiaomi"
          ],
          [
           "xiaomi"
          ],
          [
           "xiaomi"
          ],
          [
           "xiaomi"
          ],
          [
           "xiaomi"
          ],
          [
           "xiaomi"
          ],
          [
           "xiaomi"
          ],
          [
           "xiaomi"
          ],
          [
           "xiaomi"
          ],
          [
           "xiaomi"
          ],
          [
           "xiaomi"
          ],
          [
           "xiaomi"
          ],
          [
           "xiaomi"
          ],
          [
           "xiaomi"
          ],
          [
           "xiaomi"
          ],
          [
           "xiaomi"
          ],
          [
           "xiaomi"
          ],
          [
           "xiaomi"
          ],
          [
           "xiaomi"
          ],
          [
           "xiaomi"
          ],
          [
           "xiaomi"
          ],
          [
           "xiaomi"
          ],
          [
           "xiaomi"
          ],
          [
           "zte"
          ],
          [
           "zte"
          ]
         ],
         "hovertemplate": "processor_speed=%{x}<br>screen_size=%{y}<br>price=%{marker.size}<br>brand_name=%{customdata[0]}<br>internal_memory=%{marker.color}<extra></extra>",
         "legendgroup": "",
         "marker": {
          "color": [
           64,
           128,
           64,
           64,
           128,
           256,
           64,
           128,
           256,
           256,
           512,
           128,
           256,
           512,
           128,
           128,
           1024,
           256,
           128,
           1024,
           256,
           128,
           256,
           512,
           128,
           256,
           512,
           128,
           1024,
           256,
           128,
           1024,
           256,
           512,
           128,
           128,
           32,
           64,
           64,
           64,
           64,
           128,
           256,
           256,
           512,
           256,
           128,
           64,
           128,
           64,
           128,
           256,
           64,
           32,
           32,
           128,
           128,
           64,
           64,
           128,
           128,
           128,
           128,
           256,
           128,
           128,
           128,
           128,
           128,
           256,
           128,
           128,
           512,
           256,
           256,
           512,
           128,
           64,
           128,
           128,
           128,
           128,
           256,
           64,
           512,
           128,
           256,
           512,
           128,
           256,
           128,
           128,
           128,
           128,
           256,
           256,
           64,
           64,
           64,
           64,
           128,
           64,
           128,
           64,
           64,
           128,
           128,
           128,
           64,
           128,
           128,
           64,
           256,
           128,
           128,
           128,
           64,
           128,
           64,
           32,
           64,
           128,
           256,
           256,
           128,
           256,
           256,
           256,
           128,
           256,
           128,
           128,
           256,
           256,
           128,
           256,
           128,
           128,
           256,
           128,
           128,
           256,
           128,
           128,
           128,
           128,
           128,
           128,
           128,
           64,
           128,
           256,
           128,
           128,
           128,
           128,
           128,
           8,
           32,
           16,
           16,
           32,
           64,
           32,
           32,
           32,
           32,
           128,
           128,
           64,
           32,
           128,
           256,
           512,
           256,
           32,
           64,
           32,
           128,
           32,
           32,
           64,
           64,
           32,
           128,
           128,
           128,
           128,
           128,
           128,
           256,
           128,
           128,
           128,
           256,
           128,
           64,
           64,
           64,
           32,
           64,
           64,
           128,
           128,
           128,
           128,
           128,
           128,
           64,
           128,
           64,
           128,
           64,
           64,
           64,
           64,
           64,
           128,
           64,
           128,
           128,
           128,
           128,
           128,
           128,
           128,
           256,
           128,
           128,
           128,
           128,
           128,
           128,
           128,
           64,
           128,
           16,
           64,
           32,
           64,
           64,
           128,
           128,
           256,
           128,
           128,
           128,
           128,
           128,
           256,
           256,
           128,
           128,
           128,
           256,
           128,
           256,
           128,
           128,
           128,
           256,
           512,
           128,
           256,
           128,
           128,
           256,
           256,
           256,
           128,
           128,
           256,
           128,
           128,
           128,
           128,
           128,
           128,
           256,
           128,
           64,
           128,
           256,
           128,
           128,
           128,
           128,
           128,
           128,
           128,
           256,
           128,
           128,
           128,
           128,
           64,
           128,
           64,
           64,
           64,
           128,
           128,
           32,
           32,
           128,
           64,
           32,
           64,
           64,
           64,
           64,
           128,
           128,
           64,
           128,
           128,
           64,
           128,
           128,
           128,
           128,
           64,
           64,
           128,
           128,
           32,
           128,
           128,
           64,
           128,
           128,
           128,
           128,
           128,
           256,
           256,
           128,
           128,
           128,
           128,
           128,
           128,
           128,
           128,
           128,
           128,
           128,
           128,
           128,
           256,
           256,
           256,
           256,
           256,
           128,
           128,
           128,
           128,
           128,
           128,
           256,
           256,
           256,
           128,
           128,
           128,
           128,
           256,
           128,
           128,
           256,
           256,
           256,
           256,
           256,
           256,
           256,
           256,
           256,
           128,
           256,
           256,
           128,
           128,
           256,
           256,
           128,
           32,
           64,
           32,
           32,
           64,
           128,
           256,
           128,
           128,
           128,
           128,
           128,
           128,
           64,
           64,
           64,
           64,
           128,
           64,
           128,
           64,
           128,
           128,
           64,
           128,
           128,
           64,
           128,
           128,
           64,
           128,
           128,
           128,
           256,
           64,
           128,
           128,
           128,
           128,
           128,
           128,
           64,
           128,
           128,
           128,
           128,
           128,
           256,
           128,
           128,
           128,
           64,
           64,
           128,
           128,
           128,
           128,
           128,
           64,
           128,
           128,
           128,
           128,
           128,
           64,
           128,
           128,
           128,
           128,
           128,
           128,
           128,
           256,
           64,
           128,
           128,
           64,
           128,
           16,
           32,
           32,
           64,
           16,
           32,
           64,
           32,
           32,
           32,
           32,
           64,
           32,
           64,
           64,
           32,
           64,
           64,
           128,
           128,
           32,
           128,
           128,
           128,
           256,
           128,
           128,
           128,
           128,
           128,
           128,
           256,
           128,
           128,
           128,
           64,
           128,
           128,
           64,
           128,
           128,
           128,
           64,
           128,
           128,
           64,
           64,
           128,
           32,
           64,
           32,
           64,
           128,
           128,
           128,
           128,
           256,
           128,
           128,
           64,
           64,
           128,
           128,
           16,
           32,
           64,
           32,
           32,
           64,
           128,
           32,
           64,
           128,
           64,
           128,
           64,
           128,
           64,
           64,
           128,
           128,
           128,
           128,
           128,
           128,
           128,
           128,
           128,
           64,
           128,
           128,
           128,
           128,
           128,
           128,
           64,
           128,
           128,
           128,
           256,
           128,
           128,
           128,
           64,
           128,
           128,
           256,
           128,
           128,
           128,
           128,
           128,
           128,
           64,
           64,
           64,
           128,
           64,
           128,
           128,
           128,
           128,
           128,
           128,
           128,
           128,
           64,
           128,
           64,
           128,
           64,
           128,
           64,
           64,
           64,
           64,
           128,
           64,
           128,
           128,
           128,
           128,
           128,
           128,
           128,
           128,
           128,
           256,
           256,
           256,
           256,
           256,
           128,
           128,
           128,
           128,
           128,
           128,
           128,
           128,
           128,
           128,
           256,
           128,
           256,
           128,
           128,
           256,
           128,
           128,
           256,
           256,
           512,
           128,
           128,
           256,
           256,
           256,
           128,
           256,
           256,
           1024,
           256,
           256,
           512,
           128,
           64,
           128,
           256,
           128,
           64,
           512,
           32,
           128,
           128,
           128,
           128,
           128,
           128,
           128,
           256,
           256,
           256,
           256,
           16,
           32,
           64,
           64,
           128,
           128,
           256,
           128,
           128,
           128,
           64,
           64,
           64,
           64,
           64,
           128,
           64,
           64,
           64,
           64,
           32,
           64,
           128,
           128,
           256,
           256,
           128,
           128,
           128,
           128,
           128,
           128,
           128,
           128,
           128,
           128,
           64,
           128,
           128,
           128,
           256,
           64,
           64,
           64,
           128,
           128,
           256,
           128,
           128,
           128,
           128,
           128,
           128,
           128,
           128,
           256,
           128,
           256,
           128,
           128,
           256,
           128,
           256,
           128,
           256,
           256,
           256,
           256,
           256,
           256,
           256,
           256,
           512,
           256,
           512,
           128,
           256,
           256,
           256,
           128,
           256,
           256,
           32,
           32,
           32,
           32,
           32,
           128,
           128,
           32,
           64,
           32,
           64,
           64,
           32,
           64,
           32,
           32,
           64,
           64,
           128,
           64,
           64,
           64,
           64,
           128,
           128,
           64,
           128,
           128,
           16,
           128,
           128,
           128,
           128,
           128,
           128,
           128,
           128,
           128,
           16,
           128,
           128,
           16,
           128,
           128,
           128,
           128,
           128,
           128,
           32,
           32,
           64,
           128,
           128,
           128,
           256,
           128,
           256,
           256,
           256,
           256,
           128,
           128,
           128,
           128,
           256,
           256,
           128,
           256,
           256,
           128,
           128,
           128,
           128,
           128,
           128,
           128,
           128,
           128,
           128,
           128,
           256,
           256,
           64,
           128,
           64,
           128,
           128,
           64,
           128,
           128,
           32,
           64,
           128,
           128,
           64,
           128,
           64,
           128,
           64,
           128,
           128,
           128,
           64,
           64,
           64,
           128,
           64,
           32,
           128,
           32,
           128,
           64,
           32,
           32,
           32,
           256,
           128,
           128,
           256,
           128,
           128,
           128,
           128,
           128,
           128,
           64,
           128,
           128,
           64,
           128,
           128,
           128,
           128,
           64,
           128,
           64,
           128,
           128,
           64,
           128,
           64,
           128,
           64,
           128,
           128,
           64,
           128,
           128,
           128,
           256,
           128,
           128,
           64,
           128,
           128,
           64,
           64,
           128,
           128,
           128,
           128,
           128,
           64,
           256,
           256,
           128,
           256,
           128,
           128,
           128,
           256,
           256,
           128,
           128,
           64,
           128,
           128,
           64,
           64,
           64,
           64,
           64,
           128,
           64,
           128,
           128
          ],
          "coloraxis": "coloraxis",
          "size": [
           38999,
           46999,
           109900,
           51999,
           55999,
           67999,
           40999,
           45999,
           55999,
           119900,
           139900,
           62999,
           72999,
           91999,
           64900,
           119900,
           147900,
           129900,
           129900,
           179900,
           139900,
           65999,
           75999,
           95999,
           74999,
           84999,
           104999,
           119990,
           172999,
           129990,
           129990,
           182999,
           139990,
           169900,
           84990,
           149900,
           52990,
           29990,
           39900,
           43900,
           49990,
           39999,
           71999,
           72999,
           89999,
           75990,
           63990,
           8990,
           14990,
           14999,
           14999,
           45999,
           9990,
           6190,
           6999,
           7499,
           15990,
           15999,
           20120,
           36000,
           32999,
           40480,
           54300,
           79700,
           29999,
           53100,
           81999,
           34990,
           53990,
           70990,
           32990,
           24990,
           39990,
           30990,
           54990,
           94990,
           9999,
           13999,
           13999,
           16999,
           14990,
           16999,
           27999,
           10949,
           214990,
           69990,
           99990,
           239999,
           29990,
           23999,
           21990,
           29990,
           19990,
           22990,
           82990,
           60999,
           9690,
           9999,
           8910,
           10850,
           12340,
           17999,
           19999,
           8999,
           9999,
           12999,
           12799,
           15999,
           11700,
           12999,
           16999,
           15999,
           16900,
           18999,
           14999,
           19999,
           9999,
           16999,
           7320,
           6999,
           8299,
           17999,
           19499,
           36999,
           21990,
           64999,
           59999,
           58990,
           24990,
           35990,
           39990,
           34990,
           39990,
           59990,
           30990,
           34949,
           47990,
           28999,
           33749,
           22990,
           29999,
           32990,
           24990,
           14489,
           15999,
           15499,
           16940,
           18498,
           15499,
           13989,
           21788,
           27999,
           23399,
           17999,
           24999,
           14999,
           19990,
           3999,
           5990,
           6490,
           5990,
           5890,
           6699,
           5785,
           11990,
           4649,
           7499,
           17990,
           10999,
           8999,
           6999,
           10999,
           124990,
           59999,
           46990,
           5499,
           5999,
           6999,
           54999,
           3990,
           3890,
           6999,
           7790,
           5999,
           18999,
           22999,
           24999,
           39999,
           34999,
           54999,
           59999,
           34999,
           42990,
           59990,
           57999,
           22490,
           10499,
           9022,
           8999,
           7990,
           8859,
           7999,
           31990,
           23990,
           34990,
           59990,
           19990,
           15999,
           9499,
           19999,
           9999,
           11999,
           10499,
           14499,
           10999,
           12999,
           11999,
           12999,
           16999,
           21999,
           15999,
           16499,
           14999,
           16999,
           19990,
           15999,
           25999,
           20499,
           18999,
           19990,
           23990,
           41990,
           39999,
           19499,
           11490,
           49990,
           5249,
           8999,
           9499,
           10499,
           11999,
           13499,
           28498,
           46999,
           17990,
           41990,
           39990,
           49990,
           26749,
           35999,
           28249,
           24990,
           39990,
           44999,
           60990,
           46990,
           60999,
           49990,
           34999,
           60999,
           65499,
           74999,
           32999,
           36999,
           35389,
           44999,
           50999,
           55999,
           54999,
           69999,
           39999,
           69999,
           27999,
           64800,
           42999,
           44999,
           34999,
           28990,
           47990,
           22990,
           14999,
           22999,
           33900,
           28999,
           27999,
           29990,
           29999,
           34999,
           19989,
           21995,
           24999,
           21999,
           18999,
           19999,
           25595,
           16990,
           20990,
           16990,
           18990,
           19999,
           24999,
           20990,
           9990,
           9999,
           11490,
           11999,
           8999,
           8999,
           10999,
           12499,
           9499,
           12490,
           13990,
           12199,
           11990,
           14999,
           13499,
           14700,
           17990,
           17990,
           12999,
           11990,
           13969,
           18990,
           13990,
           15990,
           15490,
           16490,
           15499,
           15998,
           21990,
           17999,
           18999,
           17999,
           22990,
           23990,
           30990,
           18990,
           14990,
           17994,
           19990,
           15988,
           20999,
           25969,
           25895,
           21899,
           27660,
           19990,
           27990,
           92249,
           50990,
           79990,
           69990,
           77990,
           13490,
           16990,
           16999,
           29990,
           16990,
           19990,
           32999,
           42990,
           58990,
           29990,
           38700,
           22990,
           26380,
           36760,
           44990,
           32990,
           42990,
           45999,
           45999,
           26990,
           29990,
           19999,
           28499,
           39999,
           45999,
           22990,
           25994,
           31994,
           17999,
           29340,
           134999,
           29990,
           25899,
           6499,
           7499,
           6499,
           7299,
           7999,
           32999,
           29999,
           25999,
           27999,
           39999,
           34990,
           42999,
           29999,
           10890,
           12799,
           11499,
           15999,
           14799,
           11499,
           13499,
           11999,
           12999,
           13999,
           12999,
           14999,
           15999,
           10799,
           14499,
           19990,
           13499,
           19650,
           14990,
           24990,
           28990,
           14999,
           16499,
           17999,
           14999,
           29990,
           20999,
           19999,
           13999,
           16999,
           14499,
           18999,
           19999,
           24999,
           27999,
           12999,
           28999,
           24999,
           12989,
           14490,
           21999,
           15999,
           17999,
           16499,
           18499,
           12499,
           13999,
           17999,
           17499,
           14999,
           15999,
           13999,
           15499,
           18999,
           22998,
           18999,
           20999,
           25900,
           22994,
           24494,
           12499,
           13999,
           14999,
           14965,
           16999,
           8999,
           6490,
           6499,
           7749,
           6999,
           6999,
           8999,
           3499,
           5299,
           6299,
           7145,
           8990,
           8299,
           8999,
           9499,
           8950,
           9999,
           11828,
           12787,
           13999,
           7999,
           28994,
           40990,
           49959,
           46999,
           30994,
           32990,
           27999,
           31994,
           24999,
           26499,
           28499,
           29999,
           34999,
           31999,
           10499,
           16999,
           19999,
           10999,
           15499,
           17999,
           14999,
           13499,
           20490,
           22999,
           11499,
           11399,
           11879,
           6490,
           8999,
           7999,
           8720,
           9999,
           14999,
           10990,
           14990,
           27999,
           24999,
           26999,
           13279,
           7999,
           18999,
           19999,
           4999,
           7249,
           11499,
           6499,
           8499,
           11999,
           12999,
           9299,
           9950,
           11499,
           12990,
           14499,
           11999,
           13999,
           17990,
           16499,
           18999,
           20999,
           17499,
           18499,
           17990,
           18499,
           19990,
           22999,
           24999,
           17999,
           16499,
           16499,
           24499,
           25999,
           27499,
           24999,
           17990,
           15990,
           24990,
           22494,
           36499,
           31999,
           33499,
           34999,
           21490,
           22494,
           41999,
           41990,
           42999,
           44999,
           39990,
           39990,
           39990,
           47990,
           8499,
           10499,
           10999,
           11999,
           11499,
           13499,
           15999,
           16999,
           14999,
           19999,
           15490,
           22999,
           21999,
           8499,
           9499,
           10999,
           12999,
           10630,
           13999,
           12944,
           14999,
           11725,
           12364,
           14490,
           12120,
           14859,
           17478,
           19499,
           16999,
           23790,
           25289,
           34999,
           23999,
           39999,
           58999,
           92999,
           86000,
           104999,
           78990,
           42999,
           41999,
           74999,
           35489,
           31239,
           83000,
           85990,
           99999,
           48900,
           39999,
           43999,
           59450,
           105999,
           101999,
           49999,
           57999,
           51999,
           64449,
           88999,
           91999,
           118999,
           99990,
           70990,
           84990,
           114990,
           119990,
           34999,
           110999,
           154998,
           163980,
           59990,
           69999,
           92980,
           27999,
           30990,
           69990,
           82199,
           19990,
           15990,
           134999,
           8990,
           11499,
           14746,
           14999,
           17990,
           21999,
           17999,
           20999,
           25999,
           22999,
           39999,
           49999,
           6999,
           6299,
           10999,
           9999,
           13799,
           11999,
           15999,
           15499,
           13990,
           15499,
           8999,
           8799,
           7399,
           8890,
           7999,
           8999,
           8390,
           7999,
           9999,
           8968,
           6999,
           650000,
           29999,
           29990,
           35499,
           49990,
           14499,
           15999,
           17999,
           15990,
           16990,
           19990,
           23999,
           24999,
           12999,
           14999,
           11999,
           24990,
           29990,
           18990,
           31990,
           9990,
           11990,
           8990,
           20990,
           25000,
           27990,
           23269,
           27000,
           19000,
           24999,
           23994,
           32999,
           29999,
           24994,
           27994,
           31994,
           36994,
           26990,
           21994,
           31999,
           27999,
           39999,
           35999,
           19990,
           42990,
           27990,
           43999,
           28990,
           32990,
           119990,
           106990,
           118990,
           113990,
           82990,
           54999,
           59999,
           79999,
           82990,
           41990,
           56999,
           73999,
           7999,
           7790,
           8999,
           7999,
           8990,
           12490,
           29990,
           9490,
           11000,
           9999,
           11990,
           12500,
           8499,
           10490,
           8499,
           9999,
           10499,
           12489,
           20000,
           13990,
           9990,
           13489,
           12499,
           14990,
           15499,
           14499,
           16499,
           14990,
           7499,
           12990,
           16685,
           15990,
           18499,
           13999,
           15490,
           11999,
           22990,
           20990,
           13490,
           21999,
           19990,
           25000,
           19990,
           16990,
           19990,
           21990,
           17990,
           24990,
           8199,
           18000,
           15000,
           24990,
           24820,
           26999,
           38999,
           29990,
           50990,
           51880,
           75999,
           69990,
           48990,
           59990,
           46990,
           58990,
           71999,
           54999,
           29999,
           32990,
           54999,
           23500,
           29999,
           18699,
           21890,
           22999,
           23499,
           34990,
           23890,
           25990,
           30990,
           42990,
           109990,
           106990,
           11999,
           12999,
           9589,
           11999,
           11999,
           12390,
           12999,
           13990,
           7499,
           8388,
           10850,
           9999,
           13990,
           14990,
           11600,
           13774,
           13466,
           15990,
           17990,
           10990,
           11490,
           8999,
           7499,
           10499,
           11499,
           6999,
           10990,
           6499,
           9299,
           7499,
           6171,
           7289,
           8399,
           480000,
           27990,
           39999,
           25999,
           22999,
           29990,
           54990,
           38999,
           25999,
           28999,
           13990,
           16499,
           12490,
           9999,
           12499,
           11999,
           17999,
           16999,
           19999,
           19980,
           10999,
           11999,
           13999,
           12999,
           13999,
           11936,
           14290,
           12188,
           14990,
           17999,
           17990,
           19999,
           19999,
           22700,
           22999,
           13990,
           12990,
           14590,
           15499,
           15824,
           11999,
           16999,
           16999,
           18499,
           19990,
           17859,
           19988,
           13999,
           26990,
           24999,
           26999,
           27994,
           14999,
           24762,
           32999,
           29999,
           32999,
           26999,
           19999,
           15999,
           17990,
           20499,
           10300,
           9990,
           16999,
           11989,
           13999,
           14439,
           16490,
           19999,
           61990
          ],
          "sizemode": "area",
          "sizeref": 1625,
          "symbol": "circle"
         },
         "mode": "markers",
         "name": "",
         "orientation": "v",
         "showlegend": false,
         "type": "scatter",
         "x": [
          2.65,
          2.65,
          2.65,
          3.1,
          3.1,
          3.1,
          3.1,
          3.1,
          3.1,
          3.1,
          3.1,
          3.22,
          3.22,
          3.22,
          3.22,
          3.22,
          3.22,
          3.22,
          3.22,
          3.22,
          3.22,
          3.22,
          3.22,
          3.22,
          3.22,
          3.22,
          3.22,
          2.3,
          2.3,
          2.3,
          2.3,
          2.3,
          2.3,
          2.3,
          2.3,
          2.3,
          2.37,
          2.65,
          2.65,
          3.22,
          3.22,
          2.9,
          3.2,
          3.2,
          3.2,
          3.2,
          3.2,
          2.3,
          2.4,
          2.2,
          2.05,
          2.6,
          2,
          2,
          2,
          1.99,
          2.35,
          2,
          2.8,
          2.4,
          2.4,
          2.8,
          2.8,
          2.8,
          2.3,
          2.85,
          2.85,
          2.3,
          2.3,
          2.3,
          2.4,
          2,
          2.5,
          2.5,
          3,
          3,
          2.2,
          2,
          2.3,
          2.4,
          2.2,
          2.2,
          2.2,
          2.36,
          2.86,
          3.13,
          3.13,
          3.2,
          2.4,
          2.4,
          2.2,
          2.4,
          2.4,
          2.4,
          2.86,
          2.84,
          2,
          2.3,
          1.82,
          2,
          2,
          2.4,
          2.4,
          2.3,
          2,
          2.05,
          2,
          2.05,
          2,
          2,
          2.05,
          2.4,
          2.2,
          2.4,
          2,
          2.05,
          2,
          2.2,
          2,
          2,
          2,
          2.2,
          2.6,
          2.5,
          2.05,
          3.2,
          3.2,
          3.2,
          3.2,
          3.2,
          2.84,
          2.9,
          2.9,
          3,
          2.84,
          2.84,
          3.2,
          3.2,
          3.2,
          3.2,
          3.1,
          3.2,
          3.1,
          2.4,
          2.4,
          2.2,
          2.2,
          2.2,
          2,
          2,
          2.4,
          2.4,
          2.4,
          2.2,
          2.36,
          2.2,
          2.3,
          1.4,
          1.4,
          1.3,
          1.3,
          1.6,
          1.6,
          1.6,
          2.2,
          1.3,
          1.3,
          2.4,
          2.2,
          2.3,
          2,
          1.8,
          3,
          2.84,
          3,
          2,
          1.8,
          2.3,
          2.4,
          1.5,
          1.5,
          1.8,
          1.8,
          1.8,
          2.4,
          2.5,
          2.5,
          2.9,
          3,
          3.2,
          3.2,
          2.36,
          3.2,
          3.2,
          2.84,
          3.2,
          2,
          2.3,
          2.3,
          1.8,
          1.8,
          1.8,
          2.2,
          2.9,
          3,
          3.2,
          2.2,
          2,
          2.3,
          2,
          2,
          2,
          2.4,
          2.3,
          2.4,
          2.2,
          2.4,
          2.4,
          2.2,
          2.2,
          2.3,
          2.2,
          2.2,
          2.2,
          2.2,
          2.2,
          2.2,
          2.2,
          2.2,
          2.2,
          2.9,
          3.2,
          3.2,
          2.2,
          2,
          3.2,
          1.6,
          1.6,
          1.6,
          1.6,
          1.6,
          1.6,
          2.2,
          3,
          2,
          2.2,
          3.2,
          3.2,
          2.5,
          2.5,
          2.5,
          2.5,
          3.2,
          2.9,
          3.2,
          3.2,
          3.2,
          3,
          3.2,
          3,
          3,
          3,
          2.85,
          2.85,
          2.85,
          3.2,
          3.2,
          3.2,
          3.2,
          3.2,
          3.2,
          3.2,
          2.8,
          2.84,
          2.84,
          2.84,
          3.2,
          2.85,
          3.2,
          2.85,
          1.8,
          2.2,
          3,
          3,
          3.1,
          3,
          2.36,
          2.3,
          2.2,
          2.2,
          2.2,
          2.2,
          2.2,
          2,
          2,
          1.8,
          2.2,
          2,
          2.4,
          2,
          2.4,
          2.2,
          1.8,
          2.3,
          2.3,
          2.3,
          2,
          2,
          2.3,
          2.3,
          2.3,
          2.3,
          1.8,
          2.3,
          2.3,
          2.3,
          2.3,
          2.3,
          2.2,
          2.2,
          2.4,
          2.3,
          2.3,
          2.2,
          2.2,
          2.5,
          2,
          2.4,
          2.3,
          2.3,
          2.4,
          2.4,
          2.2,
          2.4,
          2.2,
          2.4,
          3,
          2.2,
          2,
          2.2,
          2.4,
          2,
          2.4,
          2.2,
          2.2,
          2.4,
          2.2,
          2.2,
          2.36,
          2.84,
          2.84,
          3,
          3.2,
          3.2,
          2.4,
          2.4,
          2.4,
          2.84,
          2.2,
          2.2,
          2.5,
          3.05,
          3.2,
          2.4,
          2.6,
          2.4,
          2,
          3,
          3.2,
          3,
          2.85,
          2.85,
          2.85,
          2.2,
          2.2,
          2.2,
          2.4,
          2.85,
          3.2,
          2.2,
          2,
          3,
          2.2,
          3,
          2.84,
          2,
          2,
          2.3,
          2.3,
          2,
          2,
          2,
          3,
          3.2,
          3.2,
          3.2,
          3,
          3.2,
          3,
          3.2,
          2,
          2.3,
          2,
          2.2,
          2.2,
          2.2,
          2.2,
          2.05,
          2.05,
          2.05,
          2.4,
          2.4,
          2.4,
          2.2,
          2.2,
          2.5,
          2.3,
          2.96,
          2.2,
          2.85,
          2.85,
          2.2,
          2.2,
          2.2,
          2.2,
          3.2,
          2.4,
          2.3,
          2.2,
          2.2,
          2.2,
          2.2,
          2.2,
          2.6,
          2.6,
          2.4,
          3,
          2.2,
          2.05,
          2.3,
          2.3,
          2,
          2,
          2.2,
          2.2,
          2.05,
          2.05,
          2.4,
          2.4,
          2.4,
          2.4,
          2.4,
          2.4,
          2.4,
          2.4,
          2.2,
          2.2,
          2.5,
          2.5,
          2.5,
          2.4,
          2.4,
          2.4,
          2.4,
          2.4,
          2.1,
          2.3,
          1.6,
          1.6,
          2,
          1.8,
          1.8,
          2,
          1.82,
          1.82,
          1.6,
          1.6,
          1.82,
          1.82,
          1.82,
          1.8,
          1.8,
          1.8,
          1.8,
          1.8,
          2.3,
          2.84,
          3.2,
          3,
          3,
          2.84,
          3.2,
          2.4,
          2.85,
          3.2,
          3.2,
          3.2,
          3,
          3.2,
          3.2,
          2,
          2.2,
          2.4,
          2,
          2,
          2.4,
          2.4,
          2.4,
          2.5,
          2.5,
          2,
          1.82,
          1.82,
          1.6,
          1.6,
          1.82,
          1.82,
          2,
          2.2,
          2.2,
          2.2,
          2.84,
          2.84,
          3,
          2.3,
          2,
          2.3,
          2.4,
          1.5,
          1.6,
          1.6,
          1.6,
          2.3,
          2.3,
          2.3,
          2.3,
          2.3,
          2.3,
          2,
          2,
          2.3,
          2.3,
          2.2,
          2.4,
          2.4,
          2.4,
          2,
          2,
          2.2,
          2.4,
          2.4,
          2.2,
          2.2,
          1.8,
          2,
          2,
          2,
          2.4,
          2.4,
          2.3,
          2.2,
          2.3,
          2.3,
          2.3,
          2.4,
          2.4,
          2.4,
          2.3,
          2.2,
          2.2,
          2.4,
          2.4,
          2.36,
          2.3,
          2.96,
          3.2,
          2.2,
          3,
          2.3,
          2,
          2,
          2,
          2,
          2,
          2.2,
          2.2,
          2.2,
          2.3,
          2.2,
          2.2,
          2,
          2.3,
          2.3,
          2,
          2,
          2,
          2.2,
          2.2,
          2.3,
          2.3,
          2,
          2,
          2,
          2,
          2.4,
          2.4,
          2.4,
          2.4,
          2.4,
          2.84,
          2.73,
          2.7,
          2.73,
          2.7,
          2.73,
          3.2,
          2.7,
          2.7,
          2.73,
          2.73,
          2.73,
          2.84,
          2.73,
          2.73,
          2.73,
          2.9,
          2.9,
          2.9,
          2.9,
          2.9,
          2.9,
          3,
          3,
          2.3,
          3,
          3,
          3,
          3,
          3,
          3.2,
          3.2,
          3.2,
          2.3,
          2.8,
          2.84,
          3.2,
          3.2,
          2.84,
          2.84,
          3,
          2,
          2,
          2.84,
          3,
          2,
          2.3,
          2.84,
          2,
          2,
          2,
          2,
          2.05,
          2.4,
          2.05,
          2.2,
          2.05,
          2.05,
          3.05,
          3.05,
          1.3,
          2,
          2,
          2,
          2,
          2.2,
          2.2,
          2.4,
          2,
          2.4,
          1.8,
          2,
          2,
          2,
          2.3,
          2.3,
          2.3,
          2.3,
          2,
          2.3,
          2,
          1.5,
          2,
          3.2,
          3.1,
          2.3,
          2.4,
          2.4,
          2.4,
          2.2,
          2.2,
          2.2,
          2.4,
          2.4,
          2.4,
          2.4,
          2.4,
          3.2,
          2.3,
          3,
          2.7,
          2,
          2,
          2,
          2,
          2,
          2.3,
          2.3,
          2.4,
          2,
          2.4,
          2.4,
          2.4,
          2.4,
          2.5,
          2.5,
          3,
          3,
          2.05,
          2.4,
          2,
          2,
          3,
          3,
          2.2,
          3.2,
          2.2,
          3.2,
          2.2,
          2.4,
          3.2,
          3,
          3,
          3.2,
          3,
          3.05,
          3.05,
          3,
          3.2,
          3.05,
          3.05,
          3.2,
          2.3,
          2.3,
          2.3,
          2.3,
          2.3,
          2.3,
          2.4,
          2,
          2,
          2,
          2,
          2,
          2.3,
          2.3,
          2.3,
          2.3,
          2.3,
          2.3,
          2,
          2,
          1.8,
          2.3,
          2.4,
          2,
          2.4,
          2,
          2,
          2.4,
          1.3,
          2.3,
          2,
          2.4,
          2.4,
          2.2,
          2,
          2,
          2.4,
          2.2,
          1.2,
          2.2,
          2.2,
          1.4,
          2.05,
          2,
          2.05,
          2.2,
          2.2,
          3,
          2,
          2,
          1.95,
          2.5,
          2.5,
          2.5,
          2.84,
          2.4,
          3,
          3,
          3.2,
          3.2,
          2.85,
          3.2,
          3.2,
          3.2,
          3.2,
          3.2,
          2.4,
          3.1,
          2.84,
          2.84,
          2.84,
          2.3,
          2.4,
          2.4,
          2.5,
          2.84,
          3.2,
          3.2,
          2.84,
          3,
          2.84,
          3.2,
          2.8,
          2.8,
          2.4,
          2.4,
          2.4,
          2,
          2,
          2.2,
          2,
          2,
          2,
          2,
          2.4,
          2.4,
          2.2,
          2.2,
          2.2,
          2.2,
          2,
          2.2,
          2,
          2.3,
          2.3,
          2.3,
          2,
          2,
          2,
          2,
          2,
          2,
          2,
          2,
          2,
          2.8,
          2.85,
          3.2,
          2.85,
          2.85,
          3.2,
          3.2,
          3.2,
          3.1,
          3.1,
          2.2,
          2.2,
          2.2,
          2.3,
          2.3,
          2.3,
          2.3,
          2.6,
          2.3,
          2.3,
          2.05,
          2.05,
          2.05,
          2.2,
          2.2,
          2.4,
          2.4,
          2.4,
          2.4,
          2.05,
          2.2,
          2.4,
          2.2,
          2.2,
          2.2,
          2.2,
          2.2,
          2.05,
          2.05,
          2.05,
          2.05,
          2.4,
          2.4,
          2.4,
          2.85,
          2,
          2,
          2.2,
          2.6,
          2.6,
          2.6,
          2.6,
          2.3,
          2.6,
          2.36,
          2.6,
          2.6,
          2.6,
          2.4,
          2,
          2,
          2.36,
          2,
          2,
          2.05,
          2,
          2.3,
          2.3,
          2.3,
          3.2,
          3
         ],
         "xaxis": "x",
         "y": [
          6.1,
          6.1,
          6.5,
          6.1,
          6.1,
          6.1,
          5.4,
          5.4,
          5.4,
          6.1,
          6.1,
          6.1,
          6.1,
          6.1,
          5.4,
          6.1,
          6.1,
          6.1,
          6.7,
          6.7,
          6.7,
          6.1,
          6.1,
          6.1,
          6.7,
          6.7,
          6.7,
          6.1,
          6.1,
          6.1,
          6.7,
          6.7,
          6.7,
          6.7,
          6.71,
          6.73,
          4.7,
          4.7,
          4.7,
          4.7,
          6.1,
          6.78,
          6.78,
          6.78,
          6.78,
          6.8,
          5.9,
          6.1,
          6.8,
          6.4,
          6.3,
          6.58,
          3.54,
          6.26,
          6.8,
          6.2,
          6,
          6,
          5.7,
          6,
          6.34,
          6.4,
          6.71,
          6.71,
          6.14,
          6.3,
          6.7,
          6.1,
          6.6,
          6.73,
          6.57,
          6.67,
          6.67,
          6.67,
          6.78,
          6.76,
          6.5,
          6.5,
          6.75,
          6.7,
          6.5,
          6.81,
          6.67,
          5.84,
          6.53,
          6.76,
          6.76,
          6.74,
          6.67,
          6.67,
          6.4,
          6.57,
          6.78,
          6.7,
          6.58,
          6.6,
          6.78,
          6.82,
          6.82,
          6.6,
          6.6,
          6.6,
          6.6,
          6.82,
          6.6,
          6.78,
          6.7,
          6.95,
          6.7,
          6.7,
          6.7,
          6.7,
          6.7,
          6.7,
          6.7,
          6.7,
          6.7,
          6.91,
          6.6,
          6.6,
          6.82,
          6.7,
          6.78,
          6.8,
          6.67,
          6.78,
          6.78,
          6.78,
          6.62,
          6.62,
          6.62,
          6.56,
          6.56,
          6.78,
          6.62,
          6.62,
          6.78,
          6.62,
          6.62,
          6.62,
          6.78,
          6.78,
          6.78,
          6.44,
          6.44,
          6.58,
          6.58,
          6.58,
          6.58,
          6.58,
          6.44,
          6.44,
          6.44,
          6.67,
          6.62,
          6.58,
          6.67,
          5,
          5,
          6.5,
          6.5,
          6.09,
          6.6,
          6.6,
          6.5,
          5.45,
          5.5,
          6.78,
          6.5,
          6.5,
          6.5,
          6.5,
          6.6,
          6.5,
          6.92,
          6.54,
          6.5,
          6.5,
          6.8,
          5.5,
          5,
          6.52,
          6.52,
          6.52,
          6.67,
          6.5,
          6.5,
          6.55,
          6.7,
          6.67,
          6.67,
          6.5,
          6.67,
          6.7,
          6.7,
          6.7,
          6.5,
          6.5,
          6.5,
          6.5,
          6.5,
          6.5,
          6.28,
          6.8,
          6.67,
          6.67,
          6.67,
          6.5,
          6.53,
          6.5,
          6.47,
          6.47,
          6.55,
          6.78,
          6.47,
          6.8,
          6.6,
          6.6,
          6.6,
          6.5,
          6.78,
          6.55,
          6.55,
          6.4,
          6.5,
          6.55,
          6.5,
          6.6,
          6.6,
          6.8,
          6.55,
          6.67,
          6.7,
          6.5,
          6.2,
          6.6,
          5.45,
          6.52,
          6.74,
          6.52,
          6.5,
          6.5,
          6.58,
          6.9,
          6.67,
          6.43,
          6.51,
          6.51,
          6.55,
          6.55,
          6.55,
          6.55,
          6.67,
          6.8,
          6.8,
          6.8,
          6.8,
          6.67,
          6.67,
          6.7,
          6.7,
          6.7,
          6.7,
          6.7,
          6.7,
          6.7,
          6.7,
          6.7,
          6.7,
          6.7,
          6.7,
          6.73,
          6.28,
          6.7,
          6.62,
          6.55,
          6.7,
          6.7,
          6.7,
          6.59,
          6.52,
          6.59,
          6.43,
          6.43,
          6.43,
          6.43,
          6.43,
          6.57,
          6.59,
          6.59,
          6.59,
          6.7,
          6.59,
          6.55,
          6.49,
          6.52,
          6.43,
          6.49,
          6.56,
          6.3,
          6.55,
          6.7,
          6.22,
          6.52,
          6.52,
          6.52,
          6.52,
          6.52,
          6.52,
          6.56,
          6.56,
          6.5,
          6.5,
          6.51,
          6.51,
          6.51,
          6.51,
          6.51,
          6.5,
          6.5,
          6.56,
          6.56,
          6.56,
          6.56,
          6.56,
          6,
          6.5,
          6.56,
          6.56,
          6.56,
          6.56,
          6.56,
          6.56,
          6.59,
          6.43,
          6.56,
          6.7,
          6.43,
          6.4,
          6.43,
          6.43,
          6.43,
          6.5,
          6.43,
          6.43,
          6.43,
          6.58,
          6.5,
          6.43,
          7.1,
          6.7,
          6.7,
          6.73,
          6.78,
          6.59,
          6.59,
          6.56,
          6.62,
          6.59,
          6.4,
          6.73,
          6.73,
          6.73,
          6.43,
          6.53,
          6.5,
          6.43,
          6.55,
          6.55,
          6.43,
          6.7,
          6.7,
          6.7,
          6.43,
          6.67,
          6.67,
          6.7,
          6.7,
          6.7,
          6.58,
          6.43,
          6.55,
          6.43,
          6.43,
          7.4,
          6.78,
          5.86,
          6.53,
          6.53,
          6.52,
          6.52,
          6.71,
          6.67,
          6.67,
          6.67,
          6.67,
          6.67,
          6.7,
          6.67,
          6.67,
          6.53,
          6.67,
          6.53,
          6.5,
          6.5,
          6.58,
          6.58,
          6.43,
          6.43,
          6.43,
          6.6,
          6.6,
          6.6,
          6.58,
          6.58,
          6.73,
          6.67,
          6.67,
          6.67,
          6.6,
          6.6,
          6.67,
          6.67,
          6.67,
          6.67,
          6.7,
          6.67,
          6.67,
          6.4,
          6.4,
          6.6,
          6.72,
          6.72,
          6.7,
          6.7,
          6.6,
          6.4,
          6.4,
          6.5,
          6.6,
          6.4,
          6.4,
          6.4,
          6.5,
          6.5,
          6.6,
          6.6,
          6.5,
          6.5,
          6.4,
          6.4,
          6.5,
          6.5,
          6.6,
          6.6,
          6.6,
          6.6,
          6.4,
          6.4,
          6.4,
          6.6,
          6.6,
          6.6,
          6.6,
          6.6,
          6.2,
          6.5,
          6.52,
          6.52,
          6.1,
          6.5,
          6.5,
          6.1,
          6.5,
          6.5,
          6.5,
          6.5,
          6.52,
          6.52,
          6.52,
          6.5,
          6.5,
          6.6,
          6.6,
          6.6,
          6.52,
          6.62,
          6.7,
          6.7,
          6.7,
          6.43,
          6.55,
          6.43,
          6.7,
          6.62,
          6.62,
          6.62,
          6.73,
          6.7,
          6.62,
          6.5,
          6.5,
          6.5,
          6.6,
          6.6,
          6.6,
          6.6,
          6.6,
          6.4,
          6.4,
          6.5,
          6.6,
          6.6,
          6.5,
          6.5,
          6.5,
          6.5,
          6.5,
          6.5,
          6.5,
          6.6,
          6.44,
          6.44,
          6.43,
          6.4,
          6.71,
          6.67,
          6.67,
          5.3,
          6.5,
          6.5,
          6.5,
          6.5,
          6.5,
          6.5,
          6.5,
          6.5,
          6.5,
          6.5,
          6.5,
          6.5,
          6.5,
          6.5,
          6.6,
          6.6,
          6.6,
          6.5,
          6.4,
          6.6,
          6.6,
          6.6,
          6.6,
          6.6,
          6.4,
          6.4,
          6.4,
          6.5,
          6.4,
          6.4,
          6.5,
          5.9,
          6.4,
          6.5,
          6.5,
          6.5,
          6.5,
          6.5,
          6.4,
          6,
          6.7,
          6.7,
          6.7,
          6.7,
          6.7,
          6.71,
          6.71,
          6.4,
          6.7,
          6.5,
          6.5,
          6.6,
          6.6,
          6.4,
          6.4,
          6.6,
          6.6,
          6.6,
          6.4,
          6.6,
          6.6,
          6.7,
          6.5,
          6.5,
          6.5,
          6.6,
          6.6,
          6.5,
          6.5,
          6.5,
          6.4,
          6.4,
          6.4,
          6.4,
          6.4,
          6.6,
          6.6,
          6.5,
          6.7,
          6.7,
          6.67,
          6.71,
          6.7,
          6.8,
          6.8,
          6.7,
          6.71,
          6.7,
          6.4,
          6.2,
          6.2,
          6.5,
          6.5,
          6.7,
          6.7,
          6.9,
          6.2,
          6.4,
          6.4,
          6.7,
          6.8,
          6.8,
          6.1,
          6.1,
          6.4,
          6.6,
          6.6,
          6.8,
          6.8,
          6.8,
          6.1,
          6.6,
          6.8,
          6.83,
          6.2,
          7.6,
          7.6,
          7.6,
          6.5,
          6.5,
          6.5,
          6,
          6,
          6.1,
          6.1,
          6.5,
          6.2,
          6.5,
          6,
          6.8,
          6.8,
          6.8,
          6.8,
          6.8,
          6.8,
          6.83,
          6.7,
          6.7,
          6.8,
          6.8,
          6.1,
          6.56,
          6.95,
          6.95,
          6.9,
          6.82,
          6.66,
          6.9,
          6.82,
          6.8,
          6.52,
          6.8,
          6.6,
          6.6,
          6.6,
          6.6,
          6.6,
          6.6,
          6.6,
          6.6,
          6.56,
          4.7,
          6.38,
          6.78,
          6.78,
          6.67,
          6.44,
          6.44,
          6.44,
          6.58,
          6.58,
          6.58,
          6.44,
          6.44,
          6.58,
          6.58,
          6.58,
          6.62,
          6.44,
          6.58,
          6.67,
          6.53,
          6.53,
          6.58,
          6.3,
          6.39,
          6.44,
          6.44,
          6.44,
          6.44,
          6.44,
          6.44,
          6.44,
          6.44,
          6.44,
          6.44,
          6.56,
          6.56,
          6.44,
          6.44,
          6.44,
          6.44,
          6.56,
          6.56,
          6.44,
          6.7,
          6.56,
          6.73,
          6.7,
          6.67,
          8.03,
          8.03,
          8.03,
          8.03,
          7,
          6.78,
          6.78,
          6.78,
          6.78,
          6.78,
          6.78,
          6.78,
          6.51,
          6.51,
          6.51,
          6.51,
          6.51,
          6.51,
          6,
          6.35,
          6.35,
          6.51,
          6.51,
          6.35,
          6.51,
          6.51,
          6.51,
          6.51,
          6.51,
          6.51,
          6.53,
          6.51,
          6.5,
          6.51,
          6.51,
          6.51,
          6.51,
          6.55,
          6.55,
          6.55,
          4.5,
          6.35,
          6.58,
          6.58,
          6.58,
          6.51,
          6.58,
          6.51,
          6.44,
          6.58,
          5.2,
          6.58,
          6.58,
          6,
          6.44,
          6.58,
          6.44,
          6.58,
          6.64,
          6.58,
          6.22,
          6.2,
          6.22,
          6.67,
          6.67,
          6.67,
          6.67,
          6.55,
          6.73,
          6.73,
          6.73,
          6.73,
          6.67,
          6.67,
          6.36,
          6.73,
          6.6,
          6.43,
          6.55,
          6.7,
          6.67,
          6.67,
          6.67,
          6.55,
          6.55,
          6.55,
          6.67,
          6.67,
          6.67,
          6.67,
          6.67,
          6.28,
          8.01,
          8.02,
          6.18,
          6.18,
          6.7,
          6.7,
          6.7,
          6.5,
          6.5,
          6.58,
          6.53,
          6.53,
          6.53,
          6.53,
          6.7,
          6.7,
          6.58,
          6.58,
          6.58,
          6.58,
          6.73,
          6.43,
          6.22,
          6.53,
          6.53,
          6.53,
          6.53,
          6.53,
          6.53,
          6.53,
          6.53,
          6.53,
          6.52,
          6.52,
          6.52,
          6.39,
          6.67,
          6.67,
          6.6,
          6.6,
          6.67,
          6.73,
          6.67,
          6.67,
          6.67,
          6.43,
          6.43,
          6.5,
          6.67,
          6.67,
          6.67,
          6.67,
          6.6,
          6.67,
          6.67,
          6.43,
          6.43,
          6.43,
          6.5,
          6.5,
          6.43,
          6.43,
          6.43,
          6.6,
          6.67,
          6.67,
          6.67,
          6.67,
          6.67,
          6.67,
          6.58,
          6.58,
          6.43,
          6.43,
          6.43,
          6.43,
          6.6,
          6.6,
          6.6,
          6.6,
          6.67,
          6.67,
          6.67,
          6.67,
          6.67,
          6.67,
          6.67,
          6.67,
          6.67,
          6.67,
          6.67,
          6.67,
          6.67,
          6.67,
          6.52,
          6.67,
          6.67,
          5.5,
          6.3,
          6.53,
          6.53,
          6.67,
          6.67,
          6.67,
          6.9,
          6.8
         ],
         "yaxis": "y"
        }
       ],
       "layout": {
        "coloraxis": {
         "colorbar": {
          "title": {
           "text": "internal_memory"
          }
         },
         "colorscale": [
          [
           0,
           "#0d0887"
          ],
          [
           0.1111111111111111,
           "#46039f"
          ],
          [
           0.2222222222222222,
           "#7201a8"
          ],
          [
           0.3333333333333333,
           "#9c179e"
          ],
          [
           0.4444444444444444,
           "#bd3786"
          ],
          [
           0.5555555555555556,
           "#d8576b"
          ],
          [
           0.6666666666666666,
           "#ed7953"
          ],
          [
           0.7777777777777778,
           "#fb9f3a"
          ],
          [
           0.8888888888888888,
           "#fdca26"
          ],
          [
           1,
           "#f0f921"
          ]
         ]
        },
        "legend": {
         "itemsizing": "constant",
         "tracegroupgap": 0
        },
        "margin": {
         "t": 60
        },
        "template": {
         "data": {
          "bar": [
           {
            "error_x": {
             "color": "#2a3f5f"
            },
            "error_y": {
             "color": "#2a3f5f"
            },
            "marker": {
             "line": {
              "color": "#E5ECF6",
              "width": 0.5
             },
             "pattern": {
              "fillmode": "overlay",
              "size": 10,
              "solidity": 0.2
             }
            },
            "type": "bar"
           }
          ],
          "barpolar": [
           {
            "marker": {
             "line": {
              "color": "#E5ECF6",
              "width": 0.5
             },
             "pattern": {
              "fillmode": "overlay",
              "size": 10,
              "solidity": 0.2
             }
            },
            "type": "barpolar"
           }
          ],
          "carpet": [
           {
            "aaxis": {
             "endlinecolor": "#2a3f5f",
             "gridcolor": "white",
             "linecolor": "white",
             "minorgridcolor": "white",
             "startlinecolor": "#2a3f5f"
            },
            "baxis": {
             "endlinecolor": "#2a3f5f",
             "gridcolor": "white",
             "linecolor": "white",
             "minorgridcolor": "white",
             "startlinecolor": "#2a3f5f"
            },
            "type": "carpet"
           }
          ],
          "choropleth": [
           {
            "colorbar": {
             "outlinewidth": 0,
             "ticks": ""
            },
            "type": "choropleth"
           }
          ],
          "contour": [
           {
            "colorbar": {
             "outlinewidth": 0,
             "ticks": ""
            },
            "colorscale": [
             [
              0,
              "#0d0887"
             ],
             [
              0.1111111111111111,
              "#46039f"
             ],
             [
              0.2222222222222222,
              "#7201a8"
             ],
             [
              0.3333333333333333,
              "#9c179e"
             ],
             [
              0.4444444444444444,
              "#bd3786"
             ],
             [
              0.5555555555555556,
              "#d8576b"
             ],
             [
              0.6666666666666666,
              "#ed7953"
             ],
             [
              0.7777777777777778,
              "#fb9f3a"
             ],
             [
              0.8888888888888888,
              "#fdca26"
             ],
             [
              1,
              "#f0f921"
             ]
            ],
            "type": "contour"
           }
          ],
          "contourcarpet": [
           {
            "colorbar": {
             "outlinewidth": 0,
             "ticks": ""
            },
            "type": "contourcarpet"
           }
          ],
          "heatmap": [
           {
            "colorbar": {
             "outlinewidth": 0,
             "ticks": ""
            },
            "colorscale": [
             [
              0,
              "#0d0887"
             ],
             [
              0.1111111111111111,
              "#46039f"
             ],
             [
              0.2222222222222222,
              "#7201a8"
             ],
             [
              0.3333333333333333,
              "#9c179e"
             ],
             [
              0.4444444444444444,
              "#bd3786"
             ],
             [
              0.5555555555555556,
              "#d8576b"
             ],
             [
              0.6666666666666666,
              "#ed7953"
             ],
             [
              0.7777777777777778,
              "#fb9f3a"
             ],
             [
              0.8888888888888888,
              "#fdca26"
             ],
             [
              1,
              "#f0f921"
             ]
            ],
            "type": "heatmap"
           }
          ],
          "heatmapgl": [
           {
            "colorbar": {
             "outlinewidth": 0,
             "ticks": ""
            },
            "colorscale": [
             [
              0,
              "#0d0887"
             ],
             [
              0.1111111111111111,
              "#46039f"
             ],
             [
              0.2222222222222222,
              "#7201a8"
             ],
             [
              0.3333333333333333,
              "#9c179e"
             ],
             [
              0.4444444444444444,
              "#bd3786"
             ],
             [
              0.5555555555555556,
              "#d8576b"
             ],
             [
              0.6666666666666666,
              "#ed7953"
             ],
             [
              0.7777777777777778,
              "#fb9f3a"
             ],
             [
              0.8888888888888888,
              "#fdca26"
             ],
             [
              1,
              "#f0f921"
             ]
            ],
            "type": "heatmapgl"
           }
          ],
          "histogram": [
           {
            "marker": {
             "pattern": {
              "fillmode": "overlay",
              "size": 10,
              "solidity": 0.2
             }
            },
            "type": "histogram"
           }
          ],
          "histogram2d": [
           {
            "colorbar": {
             "outlinewidth": 0,
             "ticks": ""
            },
            "colorscale": [
             [
              0,
              "#0d0887"
             ],
             [
              0.1111111111111111,
              "#46039f"
             ],
             [
              0.2222222222222222,
              "#7201a8"
             ],
             [
              0.3333333333333333,
              "#9c179e"
             ],
             [
              0.4444444444444444,
              "#bd3786"
             ],
             [
              0.5555555555555556,
              "#d8576b"
             ],
             [
              0.6666666666666666,
              "#ed7953"
             ],
             [
              0.7777777777777778,
              "#fb9f3a"
             ],
             [
              0.8888888888888888,
              "#fdca26"
             ],
             [
              1,
              "#f0f921"
             ]
            ],
            "type": "histogram2d"
           }
          ],
          "histogram2dcontour": [
           {
            "colorbar": {
             "outlinewidth": 0,
             "ticks": ""
            },
            "colorscale": [
             [
              0,
              "#0d0887"
             ],
             [
              0.1111111111111111,
              "#46039f"
             ],
             [
              0.2222222222222222,
              "#7201a8"
             ],
             [
              0.3333333333333333,
              "#9c179e"
             ],
             [
              0.4444444444444444,
              "#bd3786"
             ],
             [
              0.5555555555555556,
              "#d8576b"
             ],
             [
              0.6666666666666666,
              "#ed7953"
             ],
             [
              0.7777777777777778,
              "#fb9f3a"
             ],
             [
              0.8888888888888888,
              "#fdca26"
             ],
             [
              1,
              "#f0f921"
             ]
            ],
            "type": "histogram2dcontour"
           }
          ],
          "mesh3d": [
           {
            "colorbar": {
             "outlinewidth": 0,
             "ticks": ""
            },
            "type": "mesh3d"
           }
          ],
          "parcoords": [
           {
            "line": {
             "colorbar": {
              "outlinewidth": 0,
              "ticks": ""
             }
            },
            "type": "parcoords"
           }
          ],
          "pie": [
           {
            "automargin": true,
            "type": "pie"
           }
          ],
          "scatter": [
           {
            "fillpattern": {
             "fillmode": "overlay",
             "size": 10,
             "solidity": 0.2
            },
            "type": "scatter"
           }
          ],
          "scatter3d": [
           {
            "line": {
             "colorbar": {
              "outlinewidth": 0,
              "ticks": ""
             }
            },
            "marker": {
             "colorbar": {
              "outlinewidth": 0,
              "ticks": ""
             }
            },
            "type": "scatter3d"
           }
          ],
          "scattercarpet": [
           {
            "marker": {
             "colorbar": {
              "outlinewidth": 0,
              "ticks": ""
             }
            },
            "type": "scattercarpet"
           }
          ],
          "scattergeo": [
           {
            "marker": {
             "colorbar": {
              "outlinewidth": 0,
              "ticks": ""
             }
            },
            "type": "scattergeo"
           }
          ],
          "scattergl": [
           {
            "marker": {
             "colorbar": {
              "outlinewidth": 0,
              "ticks": ""
             }
            },
            "type": "scattergl"
           }
          ],
          "scattermapbox": [
           {
            "marker": {
             "colorbar": {
              "outlinewidth": 0,
              "ticks": ""
             }
            },
            "type": "scattermapbox"
           }
          ],
          "scatterpolar": [
           {
            "marker": {
             "colorbar": {
              "outlinewidth": 0,
              "ticks": ""
             }
            },
            "type": "scatterpolar"
           }
          ],
          "scatterpolargl": [
           {
            "marker": {
             "colorbar": {
              "outlinewidth": 0,
              "ticks": ""
             }
            },
            "type": "scatterpolargl"
           }
          ],
          "scatterternary": [
           {
            "marker": {
             "colorbar": {
              "outlinewidth": 0,
              "ticks": ""
             }
            },
            "type": "scatterternary"
           }
          ],
          "surface": [
           {
            "colorbar": {
             "outlinewidth": 0,
             "ticks": ""
            },
            "colorscale": [
             [
              0,
              "#0d0887"
             ],
             [
              0.1111111111111111,
              "#46039f"
             ],
             [
              0.2222222222222222,
              "#7201a8"
             ],
             [
              0.3333333333333333,
              "#9c179e"
             ],
             [
              0.4444444444444444,
              "#bd3786"
             ],
             [
              0.5555555555555556,
              "#d8576b"
             ],
             [
              0.6666666666666666,
              "#ed7953"
             ],
             [
              0.7777777777777778,
              "#fb9f3a"
             ],
             [
              0.8888888888888888,
              "#fdca26"
             ],
             [
              1,
              "#f0f921"
             ]
            ],
            "type": "surface"
           }
          ],
          "table": [
           {
            "cells": {
             "fill": {
              "color": "#EBF0F8"
             },
             "line": {
              "color": "white"
             }
            },
            "header": {
             "fill": {
              "color": "#C8D4E3"
             },
             "line": {
              "color": "white"
             }
            },
            "type": "table"
           }
          ]
         },
         "layout": {
          "annotationdefaults": {
           "arrowcolor": "#2a3f5f",
           "arrowhead": 0,
           "arrowwidth": 1
          },
          "autotypenumbers": "strict",
          "coloraxis": {
           "colorbar": {
            "outlinewidth": 0,
            "ticks": ""
           }
          },
          "colorscale": {
           "diverging": [
            [
             0,
             "#8e0152"
            ],
            [
             0.1,
             "#c51b7d"
            ],
            [
             0.2,
             "#de77ae"
            ],
            [
             0.3,
             "#f1b6da"
            ],
            [
             0.4,
             "#fde0ef"
            ],
            [
             0.5,
             "#f7f7f7"
            ],
            [
             0.6,
             "#e6f5d0"
            ],
            [
             0.7,
             "#b8e186"
            ],
            [
             0.8,
             "#7fbc41"
            ],
            [
             0.9,
             "#4d9221"
            ],
            [
             1,
             "#276419"
            ]
           ],
           "sequential": [
            [
             0,
             "#0d0887"
            ],
            [
             0.1111111111111111,
             "#46039f"
            ],
            [
             0.2222222222222222,
             "#7201a8"
            ],
            [
             0.3333333333333333,
             "#9c179e"
            ],
            [
             0.4444444444444444,
             "#bd3786"
            ],
            [
             0.5555555555555556,
             "#d8576b"
            ],
            [
             0.6666666666666666,
             "#ed7953"
            ],
            [
             0.7777777777777778,
             "#fb9f3a"
            ],
            [
             0.8888888888888888,
             "#fdca26"
            ],
            [
             1,
             "#f0f921"
            ]
           ],
           "sequentialminus": [
            [
             0,
             "#0d0887"
            ],
            [
             0.1111111111111111,
             "#46039f"
            ],
            [
             0.2222222222222222,
             "#7201a8"
            ],
            [
             0.3333333333333333,
             "#9c179e"
            ],
            [
             0.4444444444444444,
             "#bd3786"
            ],
            [
             0.5555555555555556,
             "#d8576b"
            ],
            [
             0.6666666666666666,
             "#ed7953"
            ],
            [
             0.7777777777777778,
             "#fb9f3a"
            ],
            [
             0.8888888888888888,
             "#fdca26"
            ],
            [
             1,
             "#f0f921"
            ]
           ]
          },
          "colorway": [
           "#636efa",
           "#EF553B",
           "#00cc96",
           "#ab63fa",
           "#FFA15A",
           "#19d3f3",
           "#FF6692",
           "#B6E880",
           "#FF97FF",
           "#FECB52"
          ],
          "font": {
           "color": "#2a3f5f"
          },
          "geo": {
           "bgcolor": "white",
           "lakecolor": "white",
           "landcolor": "#E5ECF6",
           "showlakes": true,
           "showland": true,
           "subunitcolor": "white"
          },
          "hoverlabel": {
           "align": "left"
          },
          "hovermode": "closest",
          "mapbox": {
           "style": "light"
          },
          "paper_bgcolor": "white",
          "plot_bgcolor": "#E5ECF6",
          "polar": {
           "angularaxis": {
            "gridcolor": "white",
            "linecolor": "white",
            "ticks": ""
           },
           "bgcolor": "#E5ECF6",
           "radialaxis": {
            "gridcolor": "white",
            "linecolor": "white",
            "ticks": ""
           }
          },
          "scene": {
           "xaxis": {
            "backgroundcolor": "#E5ECF6",
            "gridcolor": "white",
            "gridwidth": 2,
            "linecolor": "white",
            "showbackground": true,
            "ticks": "",
            "zerolinecolor": "white"
           },
           "yaxis": {
            "backgroundcolor": "#E5ECF6",
            "gridcolor": "white",
            "gridwidth": 2,
            "linecolor": "white",
            "showbackground": true,
            "ticks": "",
            "zerolinecolor": "white"
           },
           "zaxis": {
            "backgroundcolor": "#E5ECF6",
            "gridcolor": "white",
            "gridwidth": 2,
            "linecolor": "white",
            "showbackground": true,
            "ticks": "",
            "zerolinecolor": "white"
           }
          },
          "shapedefaults": {
           "line": {
            "color": "#2a3f5f"
           }
          },
          "ternary": {
           "aaxis": {
            "gridcolor": "white",
            "linecolor": "white",
            "ticks": ""
           },
           "baxis": {
            "gridcolor": "white",
            "linecolor": "white",
            "ticks": ""
           },
           "bgcolor": "#E5ECF6",
           "caxis": {
            "gridcolor": "white",
            "linecolor": "white",
            "ticks": ""
           }
          },
          "title": {
           "x": 0.05
          },
          "xaxis": {
           "automargin": true,
           "gridcolor": "white",
           "linecolor": "white",
           "ticks": "",
           "title": {
            "standoff": 15
           },
           "zerolinecolor": "white",
           "zerolinewidth": 2
          },
          "yaxis": {
           "automargin": true,
           "gridcolor": "white",
           "linecolor": "white",
           "ticks": "",
           "title": {
            "standoff": 15
           },
           "zerolinecolor": "white",
           "zerolinewidth": 2
          }
         }
        },
        "title": {
         "text": "Зависимость цены от характеристик смартфонов"
        },
        "xaxis": {
         "anchor": "y",
         "domain": [
          0,
          1
         ],
         "title": {
          "text": "Скорость процессора"
         }
        },
        "yaxis": {
         "anchor": "x",
         "domain": [
          0,
          1
         ],
         "title": {
          "text": "Размер экрана"
         }
        }
       }
      }
     },
     "metadata": {},
     "output_type": "display_data"
    }
   ],
   "source": [
    "fig = px.scatter(smartph, x='processor_speed', y='screen_size', color='internal_memory',\n",
    "                 size='price', hover_data=['brand_name']) \n",
    "fig.update_layout(\n",
    "    title='Зависимость цены от характеристик смартфонов',\n",
    "    xaxis_title='Скорость процессора',\n",
    "    yaxis_title='Размер экрана',\n",
    ")\n",
    "\n",
    "fig.update_xaxes(title_text='Скорость процессора')\n",
    "fig.update_yaxes(title_text='Размер экрана')\n",
    "fig.update_traces(marker=dict(size=12),\n",
    "                  selector=dict(mode='markers+text'),\n",
    "                  textfont_size=10)\n",
    "\n",
    "fig.update_traces(marker=dict(size=12),\n",
    "                  selector=dict(mode='markers+text'),\n",
    "                  textfont_size=10)\n",
    "fig.show()"
   ]
  },
  {
   "cell_type": "markdown",
   "metadata": {},
   "source": [
    "**ЗАДАЧА 2**\n"
   ]
  },
  {
   "cell_type": "code",
   "execution_count": 62,
   "metadata": {},
   "outputs": [],
   "source": [
    "from scipy.stats import ttest_ind\n",
    "from scipy.stats import chi2_contingency\n",
    "from sklearn.utils import resample\n",
    "from statsmodels.stats.proportion import proportion_confint\n",
    "from statsmodels.stats.proportion import proportions_ztest"
   ]
  },
  {
   "cell_type": "markdown",
   "metadata": {},
   "source": [
    "Визуализация данных"
   ]
  },
  {
   "cell_type": "code",
   "execution_count": 41,
   "metadata": {},
   "outputs": [
    {
     "data": {
      "text/plain": [
       "(array([ 33.,  30.,  40.,  52.,  60., 115., 218., 146., 156.,  87.]),\n",
       " array([6.  , 6.29, 6.58, 6.87, 7.16, 7.45, 7.74, 8.03, 8.32, 8.61, 8.9 ]),\n",
       " <BarContainer object of 10 artists>)"
      ]
     },
     "execution_count": 41,
     "metadata": {},
     "output_type": "execute_result"
    },
    {
     "data": {
      "image/png": "[encoded data removed]",
      "text/plain": [
       "<Figure size 640x480 with 1 Axes>"
      ]
     },
     "metadata": {},
     "output_type": "display_data"
    }
   ],
   "source": [
    "plt.hist(smartph[\"price\"])\n",
    "plt.hist(smartph[\"avg_rating\"])"
   ]
  },
  {
   "cell_type": "code",
   "execution_count": 43,
   "metadata": {},
   "outputs": [
    {
     "data": {
      "text/plain": [
       "<Axes: >"
      ]
     },
     "execution_count": 43,
     "metadata": {},
     "output_type": "execute_result"
    },
    {
     "data": {
      "image/png": "[encoded data removed]",
      "text/plain": [
       "<Figure size 640x480 with 1 Axes>"
      ]
     },
     "metadata": {},
     "output_type": "display_data"
    }
   ],
   "source": [
    "sns.boxplot(smartph[\"battery_capacity\"])"
   ]
  },
  {
   "cell_type": "code",
   "execution_count": 45,
   "metadata": {},
   "outputs": [
    {
     "data": {
      "text/plain": [
       "<Axes: xlabel='price', ylabel='avg_rating'>"
      ]
     },
     "execution_count": 45,
     "metadata": {},
     "output_type": "execute_result"
    },
    {
     "data": {
      "image/png": "[encoded data removed]",
      "text/plain": [
       "<Figure size 640x480 with 1 Axes>"
      ]
     },
     "metadata": {},
     "output_type": "display_data"
    }
   ],
   "source": [
    "sns.scatterplot(x=\"price\", y=\"avg_rating\", data=smartph)"
   ]
  },
  {
   "cell_type": "code",
   "execution_count": 48,
   "metadata": {},
   "outputs": [
    {
     "data": {
      "text/html": [
       "<div>\n",
       "<style scoped>\n",
       "    .dataframe tbody tr th:only-of-type {\n",
       "        vertical-align: middle;\n",
       "    }\n",
       "\n",
       "    .dataframe tbody tr th {\n",
       "        vertical-align: top;\n",
       "    }\n",
       "\n",
       "    .dataframe thead th {\n",
       "        text-align: right;\n",
       "    }\n",
       "</style>\n",
       "<table border=\"1\" class=\"dataframe\">\n",
       "  <thead>\n",
       "    <tr style=\"text-align: right;\">\n",
       "      <th>brand_name</th>\n",
       "      <th>apple</th>\n",
       "      <th>asus</th>\n",
       "      <th>blackview</th>\n",
       "      <th>blu</th>\n",
       "      <th>cola</th>\n",
       "      <th>doogee</th>\n",
       "      <th>duoqin</th>\n",
       "      <th>gionee</th>\n",
       "      <th>google</th>\n",
       "      <th>honor</th>\n",
       "      <th>...</th>\n",
       "      <th>redmi</th>\n",
       "      <th>samsung</th>\n",
       "      <th>sharp</th>\n",
       "      <th>sony</th>\n",
       "      <th>tcl</th>\n",
       "      <th>tecno</th>\n",
       "      <th>vertu</th>\n",
       "      <th>vivo</th>\n",
       "      <th>xiaomi</th>\n",
       "      <th>zte</th>\n",
       "    </tr>\n",
       "    <tr>\n",
       "      <th>5g_or_not</th>\n",
       "      <th></th>\n",
       "      <th></th>\n",
       "      <th></th>\n",
       "      <th></th>\n",
       "      <th></th>\n",
       "      <th></th>\n",
       "      <th></th>\n",
       "      <th></th>\n",
       "      <th></th>\n",
       "      <th></th>\n",
       "      <th></th>\n",
       "      <th></th>\n",
       "      <th></th>\n",
       "      <th></th>\n",
       "      <th></th>\n",
       "      <th></th>\n",
       "      <th></th>\n",
       "      <th></th>\n",
       "      <th></th>\n",
       "      <th></th>\n",
       "      <th></th>\n",
       "    </tr>\n",
       "  </thead>\n",
       "  <tbody>\n",
       "    <tr>\n",
       "      <th>0</th>\n",
       "      <td>6</td>\n",
       "      <td>0</td>\n",
       "      <td>0</td>\n",
       "      <td>0</td>\n",
       "      <td>1</td>\n",
       "      <td>1</td>\n",
       "      <td>1</td>\n",
       "      <td>3</td>\n",
       "      <td>3</td>\n",
       "      <td>3</td>\n",
       "      <td>...</td>\n",
       "      <td>2</td>\n",
       "      <td>55</td>\n",
       "      <td>1</td>\n",
       "      <td>3</td>\n",
       "      <td>1</td>\n",
       "      <td>27</td>\n",
       "      <td>1</td>\n",
       "      <td>58</td>\n",
       "      <td>58</td>\n",
       "      <td>0</td>\n",
       "    </tr>\n",
       "    <tr>\n",
       "      <th>1</th>\n",
       "      <td>35</td>\n",
       "      <td>6</td>\n",
       "      <td>1</td>\n",
       "      <td>1</td>\n",
       "      <td>0</td>\n",
       "      <td>1</td>\n",
       "      <td>0</td>\n",
       "      <td>0</td>\n",
       "      <td>11</td>\n",
       "      <td>10</td>\n",
       "      <td>...</td>\n",
       "      <td>1</td>\n",
       "      <td>64</td>\n",
       "      <td>0</td>\n",
       "      <td>6</td>\n",
       "      <td>0</td>\n",
       "      <td>5</td>\n",
       "      <td>0</td>\n",
       "      <td>53</td>\n",
       "      <td>75</td>\n",
       "      <td>2</td>\n",
       "    </tr>\n",
       "  </tbody>\n",
       "</table>\n",
       "<p>2 rows × 42 columns</p>\n",
       "</div>"
      ],
      "text/plain": [
       "brand_name  apple  asus  blackview  blu  cola  doogee  duoqin  gionee  google  \\\n",
       "5g_or_not                                                                       \n",
       "0               6     0          0    0     1       1       1       3       3   \n",
       "1              35     6          1    1     0       1       0       0      11   \n",
       "\n",
       "brand_name  honor  ...  redmi  samsung  sharp  sony  tcl  tecno  vertu  vivo  \\\n",
       "5g_or_not          ...                                                         \n",
       "0               3  ...      2       55      1     3    1     27      1    58   \n",
       "1              10  ...      1       64      0     6    0      5      0    53   \n",
       "\n",
       "brand_name  xiaomi  zte  \n",
       "5g_or_not                \n",
       "0               58    0  \n",
       "1               75    2  \n",
       "\n",
       "[2 rows x 42 columns]"
      ]
     },
     "execution_count": 48,
     "metadata": {},
     "output_type": "execute_result"
    }
   ],
   "source": [
    "pd.crosstab(smartph[\"5g_or_not\"], smartph[\"brand_name\"])"
   ]
  },
  {
   "cell_type": "markdown",
   "metadata": {},
   "source": [
    "t-test"
   ]
  },
  {
   "cell_type": "code",
   "execution_count": 54,
   "metadata": {},
   "outputs": [
    {
     "name": "stdout",
     "output_type": "stream",
     "text": [
      "Различия в цене незначимы\n"
     ]
    }
   ],
   "source": [
    "# Разделяем данные на группы\n",
    "df_5g = smartph[smartph[\"5g_or_not\"] == 1]\n",
    "df_no5g = smartph[smartph[\"5g_or_not\"] == 0]\n",
    "\n",
    "# Переменные\n",
    "price_5g = df_5g['price']\n",
    "price_no5g = df_no5g['price']\n",
    "\n",
    "# Проводим T-тест \n",
    "t_stat, p_val = ttest_ind(price_5g, price_no5g)\n",
    "\n",
    "# Вывод\n",
    "alpha = 0.05\n",
    "if p_value < alpha:\n",
    "    print(\"Есть значимые различия в цене между группами\")\n",
    "else:\n",
    "    print(\"Различия в цене незначимы\")"
   ]
  },
  {
   "cell_type": "markdown",
   "metadata": {},
   "source": [
    "Тесты Хи-квадрат"
   ]
  },
  {
   "cell_type": "code",
   "execution_count": 56,
   "metadata": {},
   "outputs": [
    {
     "name": "stdout",
     "output_type": "stream",
     "text": [
      "Есть зависимость между брендом и ОС\n"
     ]
    }
   ],
   "source": [
    "# Таблица сопряженности\n",
    "cont_table = pd.crosstab(smartph[\"brand_name\"], smartph[\"os\"]) \n",
    "\n",
    "# Проводим тест \n",
    "chi2, p, dof, expected = chi2_contingency(cont_table)\n",
    "\n",
    "# Вывод\n",
    "alpha = 0.05\n",
    "if p < alpha:\n",
    "    print(\"Есть зависимость между брендом и ОС\")\n",
    "else:\n",
    "    print(\"Бренд и ОС независимы\")"
   ]
  },
  {
   "cell_type": "markdown",
   "metadata": {},
   "source": [
    "Бутстрап анализ"
   ]
  },
  {
   "cell_type": "code",
   "execution_count": 58,
   "metadata": {},
   "outputs": [
    {
     "name": "stdout",
     "output_type": "stream",
     "text": [
      "17496.109284651953 27159.798754818563\n"
     ]
    }
   ],
   "source": [
    "n_iterations = 1000\n",
    "boot_t_stats = []\n",
    "\n",
    "for i in range(n_iterations):\n",
    "    boot_5g = resample(df_5g)\n",
    "    boot_no5g = resample(df_no5g)\n",
    "    boot_stat = boot_5g['price'].mean() - boot_no5g['price'].mean()\n",
    "    boot_t_stats.append(boot_stat)\n",
    "\n",
    "# Построение довер. интервала\n",
    "alpha = 0.05\n",
    "p_val = alpha / 2\n",
    "lower = np.percentile(boot_t_stats, p_val*100) \n",
    "upper = np.percentile(boot_t_stats, (1-p_val)*100)\n",
    "print(lower, upper)"
   ]
  },
  {
   "cell_type": "markdown",
   "metadata": {},
   "source": [
    "Конверсии групп"
   ]
  },
  {
   "cell_type": "code",
   "execution_count": 67,
   "metadata": {},
   "outputs": [
    {
     "name": "stdout",
     "output_type": "stream",
     "text": [
      "0.00019851055514015766 0.00040152649112186955\n"
     ]
    }
   ],
   "source": [
    "# Возьмем данные о цене и рейтинге \n",
    "price = smartph['price']\n",
    "rating = smartph['avg_rating']\n",
    "\n",
    "# Разделим на два - с 5g и без 5G\n",
    "segment_5g = smartph[smartph['5g_or_not'] == 1]\n",
    "segment_no5g = smartph[smartph['5g_or_not'] == 0]\n",
    "\n",
    "# Посчитаем среднюю цену\n",
    "price_5g = segment_5g['price'].mean()\n",
    "price_no5g = segment_no5g['price'].mean() \n",
    "\n",
    "# Конверсия\n",
    "conv_5g = segment_5g['avg_rating'].mean() / price_5g\n",
    "conv_no5g = segment_no5g['avg_rating'].mean() / price_no5g\n",
    "\n",
    "print(conv_5g, conv_no5g)\n"
   ]
  },
  {
   "cell_type": "markdown",
   "metadata": {},
   "source": [
    "Анализ доверительного интервала"
   ]
  },
  {
   "cell_type": "code",
   "execution_count": 71,
   "metadata": {},
   "outputs": [
    {
     "name": "stdout",
     "output_type": "stream",
     "text": [
      "(nan, nan) (nan, nan)\n",
      "Интервалы пересекаются\n"
     ]
    }
   ],
   "source": [
    "# Выполняем расчет\n",
    "memory = smartph['ram_capacity']\n",
    "price = smartph['price']\n",
    "\n",
    "# Рассчитаем коэффициент \"цена/память\" для каждой модели\n",
    "memory_price = price / memory \n",
    "\n",
    "# Найдем средние значения в сегментах  \n",
    "mean_5g = segment_5g['price'].mean()\n",
    "mean_no5g = segment_no5g['price'].mean()\n",
    "\n",
    "# Доверительные интервалы\n",
    "from statsmodels.stats.proportion import proportion_confint\n",
    "alpha = 0.05\n",
    "ci_5g = proportion_confint(mean_5g, len(segment_5g), alpha=alpha)\n",
    "ci_no5g = proportion_confint(mean_no5g, len(segment_no5g), alpha=alpha)\n",
    "\n",
    "# Проверка пересечения \n",
    "print(ci_5g, ci_no5g)\n",
    "if ci_5g[1] < ci_no5g[0] or ci_5g[0] > ci_no5g[1]:\n",
    "  print(\"Интервалы не пересекаются\")\n",
    "else:\n",
    "  print(\"Интервалы пересекаются\")"
   ]
  },
  {
   "cell_type": "markdown",
   "metadata": {},
   "source": [
    "Вывод по итогу эксперимента"
   ]
  },
  {
   "cell_type": "markdown",
   "metadata": {},
   "source": [
    "**ОТЧЕТ**\n",
    "* по результатам t-теста различия в цене между группами 5G и non-5G смартфонов статистически незначимы;\n",
    "\n",
    "* тест Хи-квадрат показал наличие зависимости между брендом смартфона и операционной системой;\n",
    "\n",
    "* бутстрап анализ показа, что доверительный интервал для разности средних цен в группах после бутстрапирования составил (17496.11, 27159.80).\n",
    "\n",
    "*  конверсия (рейтинг/цена) в группе 5G составила 0.0002, в группе non-5G - 0.0004.\n",
    "\n",
    "* доверительные интервалы для конверсий двух групп пересекаются, значимых различий не обнаружено.\n",
    "\n",
    "**таким образом, можно сказать  что:**\n",
    "* объем занимаемый датафреймом 168,6+ KB \n",
    "* более 95 % телефонов - стоимостью менее 100 000;\n",
    "* самыйдорогой бренд смартфона - VERTU\n",
    "* самый массовый смартфон по параметрам экрана - 6,5 дюйма\n",
    "* объем аккумулятора  4000 -50000 mAh наиболее распространен\n",
    "* наиболее применимый объем памяти в смартфонах - 128 ГБ\n",
    "* больше всего на цену смартфона влияет рейтинг и быстродействие процессора, меньше из представенных характеристик - объем аккумулятора и памяти\n",
    "* по большинству метрик значимых различий между группами 5G и non-5G смартфонов не обнаружено.\n",
    "* есть зависимость между брендом и операционной системой."
   ]
  }
 ],
 "metadata": {
  "kernelspec": {
   "display_name": "Python 3",
   "language": "python",
   "name": "python3"
  },
  "language_info": {
   "codemirror_mode": {
    "name": "ipython",
    "version": 3
   },
   "file_extension": ".py",
   "mimetype": "text/x-python",
   "name": "python",
   "nbconvert_exporter": "python",
   "pygments_lexer": "ipython3",
   "version": "3.10.10"
  },
  "orig_nbformat": 4
 },
 "nbformat": 4,
 "nbformat_minor": 2
}
